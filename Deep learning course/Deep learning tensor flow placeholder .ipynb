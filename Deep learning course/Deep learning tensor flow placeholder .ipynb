{
 "cells": [
  {
   "cell_type": "markdown",
   "id": "0fe25215",
   "metadata": {},
   "source": [
    "## Create a placeholder in tensorflow"
   ]
  },
  {
   "cell_type": "markdown",
   "id": "2056baca",
   "metadata": {},
   "source": [
    "### Placeholder"
   ]
  },
  {
   "cell_type": "markdown",
   "id": "4cf07434",
   "metadata": {},
   "source": [
    "#### A place holder is simply a variable that we will assign data to at a later on."
   ]
  },
  {
   "cell_type": "markdown",
   "id": "1e851f42",
   "metadata": {},
   "source": [
    "## Import tensorflow"
   ]
  },
  {
   "cell_type": "code",
   "execution_count": 1,
   "id": "e170a3df",
   "metadata": {},
   "outputs": [],
   "source": [
    "import tensorflow as tf"
   ]
  },
  {
   "cell_type": "markdown",
   "id": "38298de9",
   "metadata": {},
   "source": [
    " Placeholder are not executable immediately so we need to disable eager execution in version tf2 not in version 1 "
   ]
  },
  {
   "cell_type": "code",
   "execution_count": 3,
   "id": "3bb6a8ef",
   "metadata": {},
   "outputs": [],
   "source": [
    "tf.compat.v1.disable_eager_execution()"
   ]
  },
  {
   "cell_type": "markdown",
   "id": "a4849a33",
   "metadata": {},
   "source": [
    "Create placeholder"
   ]
  },
  {
   "cell_type": "code",
   "execution_count": 6,
   "id": "2a379bae",
   "metadata": {},
   "outputs": [
    {
     "data": {
      "text/plain": [
       "<tf.Tensor 'Placeholder_1:0' shape=(400, 400) dtype=float32>"
      ]
     },
     "execution_count": 6,
     "metadata": {},
     "output_type": "execute_result"
    }
   ],
   "source": [
    "X = tf.compat.v1.placeholder(dtype=tf.float32, shape=(400, 400))\n",
    "X"
   ]
  },
  {
   "cell_type": "code",
   "execution_count": 16,
   "id": "d11a7766",
   "metadata": {},
   "outputs": [
    {
     "data": {
      "text/plain": [
       "tf.float32"
      ]
     },
     "execution_count": 16,
     "metadata": {},
     "output_type": "execute_result"
    }
   ],
   "source": [
    "X.dtype"
   ]
  },
  {
   "cell_type": "code",
   "execution_count": 17,
   "id": "a464b01b",
   "metadata": {},
   "outputs": [
    {
     "data": {
      "text/plain": [
       "TensorShape([400, 400])"
      ]
     },
     "execution_count": 17,
     "metadata": {},
     "output_type": "execute_result"
    }
   ],
   "source": [
    "X.shape"
   ]
  },
  {
   "cell_type": "code",
   "execution_count": 18,
   "id": "54c7d13e",
   "metadata": {},
   "outputs": [
    {
     "data": {
      "text/plain": [
       "'Placeholder_1:0'"
      ]
     },
     "execution_count": 18,
     "metadata": {},
     "output_type": "execute_result"
    }
   ],
   "source": [
    "X.name"
   ]
  },
  {
   "cell_type": "code",
   "execution_count": 7,
   "id": "706e74cd",
   "metadata": {},
   "outputs": [
    {
     "data": {
      "text/plain": [
       "<tf.Tensor 'Placeholder_2:0' shape=(400, 400) dtype=float32>"
      ]
     },
     "execution_count": 7,
     "metadata": {},
     "output_type": "execute_result"
    }
   ],
   "source": [
    "y = tf.compat.v1.placeholder(dtype=tf.float32, shape=(400, 400))\n",
    "y"
   ]
  },
  {
   "cell_type": "markdown",
   "id": "41dac089",
   "metadata": {},
   "source": [
    "## Perform mathematical operation on placeholder "
   ]
  },
  {
   "cell_type": "code",
   "execution_count": 8,
   "id": "0bc68004",
   "metadata": {},
   "outputs": [
    {
     "data": {
      "text/plain": [
       "<tf.Tensor 'Add:0' shape=(400, 400) dtype=float32>"
      ]
     },
     "execution_count": 8,
     "metadata": {},
     "output_type": "execute_result"
    }
   ],
   "source": [
    "z=tf.add(X, y)\n",
    "z"
   ]
  },
  {
   "cell_type": "markdown",
   "id": "3e538957",
   "metadata": {},
   "source": [
    "## Create numpy array"
   ]
  },
  {
   "cell_type": "code",
   "execution_count": 9,
   "id": "00823114",
   "metadata": {},
   "outputs": [],
   "source": [
    "import numpy as np"
   ]
  },
  {
   "cell_type": "code",
   "execution_count": 10,
   "id": "4a1de386",
   "metadata": {},
   "outputs": [
    {
     "data": {
      "text/plain": [
       "array([[1., 1., 1., ..., 1., 1., 1.],\n",
       "       [1., 1., 1., ..., 1., 1., 1.],\n",
       "       [1., 1., 1., ..., 1., 1., 1.],\n",
       "       ...,\n",
       "       [1., 1., 1., ..., 1., 1., 1.],\n",
       "       [1., 1., 1., ..., 1., 1., 1.],\n",
       "       [1., 1., 1., ..., 1., 1., 1.]], dtype=float32)"
      ]
     },
     "execution_count": 10,
     "metadata": {},
     "output_type": "execute_result"
    }
   ],
   "source": [
    "array = np.ones((400, 400), np.float32)\n",
    "array"
   ]
  },
  {
   "cell_type": "markdown",
   "id": "891cb6ee",
   "metadata": {},
   "source": [
    "## Execute tensorflow placeholder using session"
   ]
  },
  {
   "cell_type": "code",
   "execution_count": 13,
   "id": "65c96158",
   "metadata": {},
   "outputs": [],
   "source": [
    "with tf.compat.v1.Session() as se:\n",
    "    a=se.run(z, feed_dict={X:array, y:array})"
   ]
  },
  {
   "cell_type": "code",
   "execution_count": 14,
   "id": "cf3203af",
   "metadata": {},
   "outputs": [
    {
     "data": {
      "text/plain": [
       "array([[2., 2., 2., ..., 2., 2., 2.],\n",
       "       [2., 2., 2., ..., 2., 2., 2.],\n",
       "       [2., 2., 2., ..., 2., 2., 2.],\n",
       "       ...,\n",
       "       [2., 2., 2., ..., 2., 2., 2.],\n",
       "       [2., 2., 2., ..., 2., 2., 2.],\n",
       "       [2., 2., 2., ..., 2., 2., 2.]], dtype=float32)"
      ]
     },
     "execution_count": 14,
     "metadata": {},
     "output_type": "execute_result"
    }
   ],
   "source": [
    "a"
   ]
  },
  {
   "cell_type": "code",
   "execution_count": 15,
   "id": "839aa6fa",
   "metadata": {},
   "outputs": [
    {
     "data": {
      "text/plain": [
       "numpy.ndarray"
      ]
     },
     "execution_count": 15,
     "metadata": {},
     "output_type": "execute_result"
    }
   ],
   "source": [
    "type(a)"
   ]
  },
  {
   "cell_type": "code",
   "execution_count": null,
   "id": "b18bbba2",
   "metadata": {},
   "outputs": [],
   "source": []
  },
  {
   "cell_type": "code",
   "execution_count": null,
   "id": "be12886c",
   "metadata": {},
   "outputs": [],
   "source": []
  },
  {
   "cell_type": "code",
   "execution_count": null,
   "id": "796ab482",
   "metadata": {},
   "outputs": [],
   "source": []
  }
 ],
 "metadata": {
  "kernelspec": {
   "display_name": "Python 3",
   "language": "python",
   "name": "python3"
  },
  "language_info": {
   "codemirror_mode": {
    "name": "ipython",
    "version": 3
   },
   "file_extension": ".py",
   "mimetype": "text/x-python",
   "name": "python",
   "nbconvert_exporter": "python",
   "pygments_lexer": "ipython3",
   "version": "3.8.8"
  }
 },
 "nbformat": 4,
 "nbformat_minor": 5
}
