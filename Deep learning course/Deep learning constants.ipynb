{
 "cells": [
  {
   "cell_type": "code",
   "execution_count": null,
   "id": "ddafd0ce",
   "metadata": {},
   "outputs": [],
   "source": [
    "## Constants in tensorflow\n",
    "#### Constant is a method  in tensorflow is immutable because we cannot change. "
   ]
  },
  {
   "cell_type": "markdown",
   "id": "50ccd69f",
   "metadata": {},
   "source": [
    "### Import tensorflow library"
   ]
  },
  {
   "cell_type": "code",
   "execution_count": 1,
   "id": "a479b7a7",
   "metadata": {},
   "outputs": [],
   "source": [
    "import tensorflow as tf"
   ]
  },
  {
   "cell_type": "markdown",
   "id": "5907f060",
   "metadata": {},
   "source": [
    "### Check version of tensorflow"
   ]
  },
  {
   "cell_type": "code",
   "execution_count": 2,
   "id": "511a6965",
   "metadata": {},
   "outputs": [
    {
     "data": {
      "text/plain": [
       "'2.6.0'"
      ]
     },
     "execution_count": 2,
     "metadata": {},
     "output_type": "execute_result"
    }
   ],
   "source": [
    "tf.__version__"
   ]
  },
  {
   "cell_type": "markdown",
   "id": "8edd5045",
   "metadata": {},
   "source": [
    "### Check for tensorflow for gpu"
   ]
  },
  {
   "cell_type": "code",
   "execution_count": 3,
   "id": "9c5765d5",
   "metadata": {},
   "outputs": [
    {
     "name": "stdout",
     "output_type": "stream",
     "text": [
      "WARNING:tensorflow:From <ipython-input-3-17bb7203622b>:1: is_gpu_available (from tensorflow.python.framework.test_util) is deprecated and will be removed in a future version.\n",
      "Instructions for updating:\n",
      "Use `tf.config.list_physical_devices('GPU')` instead.\n"
     ]
    },
    {
     "data": {
      "text/plain": [
       "False"
      ]
     },
     "execution_count": 3,
     "metadata": {},
     "output_type": "execute_result"
    }
   ],
   "source": [
    "tf.test.is_gpu_available()"
   ]
  },
  {
   "cell_type": "markdown",
   "id": "3cf2c08a",
   "metadata": {},
   "source": [
    "### Create constant in tensorflow"
   ]
  },
  {
   "cell_type": "code",
   "execution_count": 4,
   "id": "ec7433aa",
   "metadata": {},
   "outputs": [],
   "source": [
    "a=tf.constant(20)"
   ]
  },
  {
   "cell_type": "code",
   "execution_count": 5,
   "id": "76a3870d",
   "metadata": {},
   "outputs": [
    {
     "data": {
      "text/plain": [
       "<tf.Tensor: shape=(), dtype=int32, numpy=20>"
      ]
     },
     "execution_count": 5,
     "metadata": {},
     "output_type": "execute_result"
    }
   ],
   "source": [
    "a"
   ]
  },
  {
   "cell_type": "code",
   "execution_count": 6,
   "id": "5626fd48",
   "metadata": {},
   "outputs": [],
   "source": [
    "a1=tf.constant(30, dtype=None)"
   ]
  },
  {
   "cell_type": "code",
   "execution_count": 7,
   "id": "86bd2728",
   "metadata": {},
   "outputs": [
    {
     "data": {
      "text/plain": [
       "<tf.Tensor: shape=(), dtype=int32, numpy=30>"
      ]
     },
     "execution_count": 7,
     "metadata": {},
     "output_type": "execute_result"
    }
   ],
   "source": [
    "a1"
   ]
  },
  {
   "cell_type": "code",
   "execution_count": 8,
   "id": "3f75b6ff",
   "metadata": {},
   "outputs": [],
   "source": [
    "b=tf.constant('Amir khan')"
   ]
  },
  {
   "cell_type": "code",
   "execution_count": 9,
   "id": "d4bbe577",
   "metadata": {},
   "outputs": [
    {
     "data": {
      "text/plain": [
       "<tf.Tensor: shape=(), dtype=string, numpy=b'Amir khan'>"
      ]
     },
     "execution_count": 9,
     "metadata": {},
     "output_type": "execute_result"
    }
   ],
   "source": [
    "b"
   ]
  },
  {
   "cell_type": "code",
   "execution_count": 10,
   "id": "e906bc6a",
   "metadata": {},
   "outputs": [],
   "source": [
    "c=tf.constant(True)"
   ]
  },
  {
   "cell_type": "code",
   "execution_count": 11,
   "id": "501a9b04",
   "metadata": {},
   "outputs": [
    {
     "data": {
      "text/plain": [
       "<tf.Tensor: shape=(), dtype=bool, numpy=True>"
      ]
     },
     "execution_count": 11,
     "metadata": {},
     "output_type": "execute_result"
    }
   ],
   "source": [
    "c"
   ]
  },
  {
   "cell_type": "code",
   "execution_count": 12,
   "id": "71b6072e",
   "metadata": {},
   "outputs": [],
   "source": [
    "import numpy as np"
   ]
  },
  {
   "cell_type": "code",
   "execution_count": 14,
   "id": "473c3d8b",
   "metadata": {},
   "outputs": [],
   "source": [
    "a=np.array([[2, 3, 4], [4, 5, 6], [7, 8, 9]])"
   ]
  },
  {
   "cell_type": "code",
   "execution_count": 15,
   "id": "11bfaef9",
   "metadata": {},
   "outputs": [
    {
     "data": {
      "text/plain": [
       "array([[2, 3, 4],\n",
       "       [4, 5, 6],\n",
       "       [7, 8, 9]])"
      ]
     },
     "execution_count": 15,
     "metadata": {},
     "output_type": "execute_result"
    }
   ],
   "source": [
    "a"
   ]
  },
  {
   "cell_type": "code",
   "execution_count": 16,
   "id": "e08a8cec",
   "metadata": {},
   "outputs": [],
   "source": [
    "c=tf.constant(a)"
   ]
  },
  {
   "cell_type": "code",
   "execution_count": 17,
   "id": "1f06999f",
   "metadata": {},
   "outputs": [
    {
     "data": {
      "text/plain": [
       "<tf.Tensor: shape=(3, 3), dtype=int32, numpy=\n",
       "array([[2, 3, 4],\n",
       "       [4, 5, 6],\n",
       "       [7, 8, 9]])>"
      ]
     },
     "execution_count": 17,
     "metadata": {},
     "output_type": "execute_result"
    }
   ],
   "source": [
    "c"
   ]
  },
  {
   "cell_type": "markdown",
   "id": "62ee6928",
   "metadata": {},
   "source": [
    "### Import pandas library"
   ]
  },
  {
   "cell_type": "code",
   "execution_count": 18,
   "id": "45fb9156",
   "metadata": {},
   "outputs": [],
   "source": [
    "import pandas as pd"
   ]
  },
  {
   "cell_type": "markdown",
   "id": "80b0b499",
   "metadata": {},
   "source": [
    "### Read csv file "
   ]
  },
  {
   "cell_type": "code",
   "execution_count": 20,
   "id": "7d7d25d9",
   "metadata": {},
   "outputs": [
    {
     "name": "stderr",
     "output_type": "stream",
     "text": [
      "C:\\Users\\ASAD\\anaconda3\\lib\\site-packages\\IPython\\core\\interactiveshell.py:3165: DtypeWarning: Columns (9) have mixed types.Specify dtype option on import or set low_memory=False.\n",
      "  has_raised = await self.run_ast_nodes(code_ast.body, cell_name,\n"
     ]
    }
   ],
   "source": [
    "Df=pd.read_csv('C:/Users/ASAD/Downloads/Compressed/complaints.csv')"
   ]
  },
  {
   "cell_type": "code",
   "execution_count": 21,
   "id": "82afcffd",
   "metadata": {},
   "outputs": [
    {
     "data": {
      "text/html": [
       "<div>\n",
       "<style scoped>\n",
       "    .dataframe tbody tr th:only-of-type {\n",
       "        vertical-align: middle;\n",
       "    }\n",
       "\n",
       "    .dataframe tbody tr th {\n",
       "        vertical-align: top;\n",
       "    }\n",
       "\n",
       "    .dataframe thead th {\n",
       "        text-align: right;\n",
       "    }\n",
       "</style>\n",
       "<table border=\"1\" class=\"dataframe\">\n",
       "  <thead>\n",
       "    <tr style=\"text-align: right;\">\n",
       "      <th></th>\n",
       "      <th>Date received</th>\n",
       "      <th>Product</th>\n",
       "      <th>Sub-product</th>\n",
       "      <th>Issue</th>\n",
       "      <th>Sub-issue</th>\n",
       "      <th>Consumer complaint narrative</th>\n",
       "      <th>Company public response</th>\n",
       "      <th>Company</th>\n",
       "      <th>State</th>\n",
       "      <th>ZIP code</th>\n",
       "      <th>Tags</th>\n",
       "      <th>Consumer consent provided?</th>\n",
       "      <th>Submitted via</th>\n",
       "      <th>Date sent to company</th>\n",
       "      <th>Company response to consumer</th>\n",
       "      <th>Timely response?</th>\n",
       "      <th>Consumer disputed?</th>\n",
       "      <th>Complaint ID</th>\n",
       "    </tr>\n",
       "  </thead>\n",
       "  <tbody>\n",
       "    <tr>\n",
       "      <th>0</th>\n",
       "      <td>2022-02-02</td>\n",
       "      <td>Credit reporting, credit repair services, or o...</td>\n",
       "      <td>Credit reporting</td>\n",
       "      <td>Problem with a credit reporting company's inve...</td>\n",
       "      <td>Investigation took more than 30 days</td>\n",
       "      <td>NaN</td>\n",
       "      <td>Company has responded to the consumer and the ...</td>\n",
       "      <td>TRANSUNION INTERMEDIATE HOLDINGS, INC.</td>\n",
       "      <td>NY</td>\n",
       "      <td>12919.0</td>\n",
       "      <td>NaN</td>\n",
       "      <td>Consent not provided</td>\n",
       "      <td>Web</td>\n",
       "      <td>2022-02-02</td>\n",
       "      <td>Closed with non-monetary relief</td>\n",
       "      <td>Yes</td>\n",
       "      <td>NaN</td>\n",
       "      <td>5177559</td>\n",
       "    </tr>\n",
       "    <tr>\n",
       "      <th>1</th>\n",
       "      <td>2022-03-14</td>\n",
       "      <td>Credit reporting, credit repair services, or o...</td>\n",
       "      <td>Credit reporting</td>\n",
       "      <td>Incorrect information on your report</td>\n",
       "      <td>Information belongs to someone else</td>\n",
       "      <td>NaN</td>\n",
       "      <td>NaN</td>\n",
       "      <td>EQUIFAX, INC.</td>\n",
       "      <td>WA</td>\n",
       "      <td>98056.0</td>\n",
       "      <td>NaN</td>\n",
       "      <td>NaN</td>\n",
       "      <td>Web</td>\n",
       "      <td>2022-03-14</td>\n",
       "      <td>Closed with explanation</td>\n",
       "      <td>Yes</td>\n",
       "      <td>NaN</td>\n",
       "      <td>5321616</td>\n",
       "    </tr>\n",
       "    <tr>\n",
       "      <th>2</th>\n",
       "      <td>2022-03-14</td>\n",
       "      <td>Credit reporting, credit repair services, or o...</td>\n",
       "      <td>Credit reporting</td>\n",
       "      <td>Problem with a credit reporting company's inve...</td>\n",
       "      <td>Investigation took more than 30 days</td>\n",
       "      <td>NaN</td>\n",
       "      <td>NaN</td>\n",
       "      <td>EQUIFAX, INC.</td>\n",
       "      <td>GA</td>\n",
       "      <td>31909.0</td>\n",
       "      <td>NaN</td>\n",
       "      <td>NaN</td>\n",
       "      <td>Web</td>\n",
       "      <td>2022-03-14</td>\n",
       "      <td>Closed with explanation</td>\n",
       "      <td>Yes</td>\n",
       "      <td>NaN</td>\n",
       "      <td>5319887</td>\n",
       "    </tr>\n",
       "    <tr>\n",
       "      <th>3</th>\n",
       "      <td>2022-03-14</td>\n",
       "      <td>Credit reporting, credit repair services, or o...</td>\n",
       "      <td>Credit reporting</td>\n",
       "      <td>Problem with a credit reporting company's inve...</td>\n",
       "      <td>Their investigation did not fix an error on yo...</td>\n",
       "      <td>NaN</td>\n",
       "      <td>NaN</td>\n",
       "      <td>EQUIFAX, INC.</td>\n",
       "      <td>OH</td>\n",
       "      <td>44133.0</td>\n",
       "      <td>NaN</td>\n",
       "      <td>Other</td>\n",
       "      <td>Web</td>\n",
       "      <td>2022-03-14</td>\n",
       "      <td>Closed with explanation</td>\n",
       "      <td>Yes</td>\n",
       "      <td>NaN</td>\n",
       "      <td>5320509</td>\n",
       "    </tr>\n",
       "    <tr>\n",
       "      <th>4</th>\n",
       "      <td>2022-03-16</td>\n",
       "      <td>Mortgage</td>\n",
       "      <td>Conventional home mortgage</td>\n",
       "      <td>Trouble during payment process</td>\n",
       "      <td>NaN</td>\n",
       "      <td>NaN</td>\n",
       "      <td>Company has responded to the consumer and the ...</td>\n",
       "      <td>LoanCare, LLC</td>\n",
       "      <td>CA</td>\n",
       "      <td>90405.0</td>\n",
       "      <td>NaN</td>\n",
       "      <td>Consent not provided</td>\n",
       "      <td>Web</td>\n",
       "      <td>2022-03-31</td>\n",
       "      <td>Closed with explanation</td>\n",
       "      <td>Yes</td>\n",
       "      <td>NaN</td>\n",
       "      <td>5330683</td>\n",
       "    </tr>\n",
       "    <tr>\n",
       "      <th>...</th>\n",
       "      <td>...</td>\n",
       "      <td>...</td>\n",
       "      <td>...</td>\n",
       "      <td>...</td>\n",
       "      <td>...</td>\n",
       "      <td>...</td>\n",
       "      <td>...</td>\n",
       "      <td>...</td>\n",
       "      <td>...</td>\n",
       "      <td>...</td>\n",
       "      <td>...</td>\n",
       "      <td>...</td>\n",
       "      <td>...</td>\n",
       "      <td>...</td>\n",
       "      <td>...</td>\n",
       "      <td>...</td>\n",
       "      <td>...</td>\n",
       "      <td>...</td>\n",
       "    </tr>\n",
       "    <tr>\n",
       "      <th>2584129</th>\n",
       "      <td>2017-02-09</td>\n",
       "      <td>Debt collection</td>\n",
       "      <td>I do not know</td>\n",
       "      <td>Cont'd attempts collect debt not owed</td>\n",
       "      <td>Debt resulted from identity theft</td>\n",
       "      <td>I have disputed my debts several times with no...</td>\n",
       "      <td>NaN</td>\n",
       "      <td>Bonneville Billing and Collections</td>\n",
       "      <td>UT</td>\n",
       "      <td>84054</td>\n",
       "      <td>Servicemember</td>\n",
       "      <td>Consent provided</td>\n",
       "      <td>Web</td>\n",
       "      <td>2017-02-09</td>\n",
       "      <td>Closed with explanation</td>\n",
       "      <td>Yes</td>\n",
       "      <td>No</td>\n",
       "      <td>2334969</td>\n",
       "    </tr>\n",
       "    <tr>\n",
       "      <th>2584130</th>\n",
       "      <td>2015-04-29</td>\n",
       "      <td>Mortgage</td>\n",
       "      <td>Conventional fixed mortgage</td>\n",
       "      <td>Loan modification,collection,foreclosure</td>\n",
       "      <td>NaN</td>\n",
       "      <td>My father died in XX/XX/XXXX. Left me his only...</td>\n",
       "      <td>NaN</td>\n",
       "      <td>CITIBANK, N.A.</td>\n",
       "      <td>OK</td>\n",
       "      <td>74066</td>\n",
       "      <td>NaN</td>\n",
       "      <td>Consent provided</td>\n",
       "      <td>Web</td>\n",
       "      <td>2015-04-29</td>\n",
       "      <td>Closed with explanation</td>\n",
       "      <td>Yes</td>\n",
       "      <td>No</td>\n",
       "      <td>1352738</td>\n",
       "    </tr>\n",
       "    <tr>\n",
       "      <th>2584131</th>\n",
       "      <td>2017-03-31</td>\n",
       "      <td>Credit reporting</td>\n",
       "      <td>NaN</td>\n",
       "      <td>Credit reporting company's investigation</td>\n",
       "      <td>No notice of investigation status/result</td>\n",
       "      <td>cfbp i would Like to file a complaint on Exper...</td>\n",
       "      <td>Company has responded to the consumer and the ...</td>\n",
       "      <td>Experian Information Solutions Inc.</td>\n",
       "      <td>MN</td>\n",
       "      <td>55379</td>\n",
       "      <td>NaN</td>\n",
       "      <td>Consent provided</td>\n",
       "      <td>Web</td>\n",
       "      <td>2017-03-31</td>\n",
       "      <td>Closed with non-monetary relief</td>\n",
       "      <td>Yes</td>\n",
       "      <td>Yes</td>\n",
       "      <td>2412926</td>\n",
       "    </tr>\n",
       "    <tr>\n",
       "      <th>2584132</th>\n",
       "      <td>2017-01-16</td>\n",
       "      <td>Credit reporting</td>\n",
       "      <td>NaN</td>\n",
       "      <td>Incorrect information on credit report</td>\n",
       "      <td>Account status</td>\n",
       "      <td>My husband and I are in the middle of an FHA S...</td>\n",
       "      <td>Company has responded to the consumer and the ...</td>\n",
       "      <td>TRANSUNION INTERMEDIATE HOLDINGS, INC.</td>\n",
       "      <td>GA</td>\n",
       "      <td>30215</td>\n",
       "      <td>NaN</td>\n",
       "      <td>Consent provided</td>\n",
       "      <td>Web</td>\n",
       "      <td>2017-01-16</td>\n",
       "      <td>Closed with explanation</td>\n",
       "      <td>Yes</td>\n",
       "      <td>No</td>\n",
       "      <td>2292586</td>\n",
       "    </tr>\n",
       "    <tr>\n",
       "      <th>2584133</th>\n",
       "      <td>2018-03-07</td>\n",
       "      <td>Mortgage</td>\n",
       "      <td>Other type of mortgage</td>\n",
       "      <td>Trouble during payment process</td>\n",
       "      <td>NaN</td>\n",
       "      <td>NaN</td>\n",
       "      <td>Company has responded to the consumer and the ...</td>\n",
       "      <td>WELLS FARGO &amp; COMPANY</td>\n",
       "      <td>CA</td>\n",
       "      <td>91304</td>\n",
       "      <td>NaN</td>\n",
       "      <td>NaN</td>\n",
       "      <td>Referral</td>\n",
       "      <td>2018-03-08</td>\n",
       "      <td>Closed with explanation</td>\n",
       "      <td>Yes</td>\n",
       "      <td>NaN</td>\n",
       "      <td>2837068</td>\n",
       "    </tr>\n",
       "  </tbody>\n",
       "</table>\n",
       "<p>2584134 rows × 18 columns</p>\n",
       "</div>"
      ],
      "text/plain": [
       "        Date received                                            Product  \\\n",
       "0          2022-02-02  Credit reporting, credit repair services, or o...   \n",
       "1          2022-03-14  Credit reporting, credit repair services, or o...   \n",
       "2          2022-03-14  Credit reporting, credit repair services, or o...   \n",
       "3          2022-03-14  Credit reporting, credit repair services, or o...   \n",
       "4          2022-03-16                                           Mortgage   \n",
       "...               ...                                                ...   \n",
       "2584129    2017-02-09                                    Debt collection   \n",
       "2584130    2015-04-29                                           Mortgage   \n",
       "2584131    2017-03-31                                   Credit reporting   \n",
       "2584132    2017-01-16                                   Credit reporting   \n",
       "2584133    2018-03-07                                           Mortgage   \n",
       "\n",
       "                         Sub-product  \\\n",
       "0                   Credit reporting   \n",
       "1                   Credit reporting   \n",
       "2                   Credit reporting   \n",
       "3                   Credit reporting   \n",
       "4         Conventional home mortgage   \n",
       "...                              ...   \n",
       "2584129                I do not know   \n",
       "2584130  Conventional fixed mortgage   \n",
       "2584131                          NaN   \n",
       "2584132                          NaN   \n",
       "2584133       Other type of mortgage   \n",
       "\n",
       "                                                     Issue  \\\n",
       "0        Problem with a credit reporting company's inve...   \n",
       "1                     Incorrect information on your report   \n",
       "2        Problem with a credit reporting company's inve...   \n",
       "3        Problem with a credit reporting company's inve...   \n",
       "4                           Trouble during payment process   \n",
       "...                                                    ...   \n",
       "2584129              Cont'd attempts collect debt not owed   \n",
       "2584130           Loan modification,collection,foreclosure   \n",
       "2584131           Credit reporting company's investigation   \n",
       "2584132             Incorrect information on credit report   \n",
       "2584133                     Trouble during payment process   \n",
       "\n",
       "                                                 Sub-issue  \\\n",
       "0                     Investigation took more than 30 days   \n",
       "1                      Information belongs to someone else   \n",
       "2                     Investigation took more than 30 days   \n",
       "3        Their investigation did not fix an error on yo...   \n",
       "4                                                      NaN   \n",
       "...                                                    ...   \n",
       "2584129                  Debt resulted from identity theft   \n",
       "2584130                                                NaN   \n",
       "2584131           No notice of investigation status/result   \n",
       "2584132                                     Account status   \n",
       "2584133                                                NaN   \n",
       "\n",
       "                              Consumer complaint narrative  \\\n",
       "0                                                      NaN   \n",
       "1                                                      NaN   \n",
       "2                                                      NaN   \n",
       "3                                                      NaN   \n",
       "4                                                      NaN   \n",
       "...                                                    ...   \n",
       "2584129  I have disputed my debts several times with no...   \n",
       "2584130  My father died in XX/XX/XXXX. Left me his only...   \n",
       "2584131  cfbp i would Like to file a complaint on Exper...   \n",
       "2584132  My husband and I are in the middle of an FHA S...   \n",
       "2584133                                                NaN   \n",
       "\n",
       "                                   Company public response  \\\n",
       "0        Company has responded to the consumer and the ...   \n",
       "1                                                      NaN   \n",
       "2                                                      NaN   \n",
       "3                                                      NaN   \n",
       "4        Company has responded to the consumer and the ...   \n",
       "...                                                    ...   \n",
       "2584129                                                NaN   \n",
       "2584130                                                NaN   \n",
       "2584131  Company has responded to the consumer and the ...   \n",
       "2584132  Company has responded to the consumer and the ...   \n",
       "2584133  Company has responded to the consumer and the ...   \n",
       "\n",
       "                                        Company State ZIP code           Tags  \\\n",
       "0        TRANSUNION INTERMEDIATE HOLDINGS, INC.    NY  12919.0            NaN   \n",
       "1                                 EQUIFAX, INC.    WA  98056.0            NaN   \n",
       "2                                 EQUIFAX, INC.    GA  31909.0            NaN   \n",
       "3                                 EQUIFAX, INC.    OH  44133.0            NaN   \n",
       "4                                 LoanCare, LLC    CA  90405.0            NaN   \n",
       "...                                         ...   ...      ...            ...   \n",
       "2584129      Bonneville Billing and Collections    UT    84054  Servicemember   \n",
       "2584130                          CITIBANK, N.A.    OK    74066            NaN   \n",
       "2584131     Experian Information Solutions Inc.    MN    55379            NaN   \n",
       "2584132  TRANSUNION INTERMEDIATE HOLDINGS, INC.    GA    30215            NaN   \n",
       "2584133                   WELLS FARGO & COMPANY    CA    91304            NaN   \n",
       "\n",
       "        Consumer consent provided? Submitted via Date sent to company  \\\n",
       "0             Consent not provided           Web           2022-02-02   \n",
       "1                              NaN           Web           2022-03-14   \n",
       "2                              NaN           Web           2022-03-14   \n",
       "3                            Other           Web           2022-03-14   \n",
       "4             Consent not provided           Web           2022-03-31   \n",
       "...                            ...           ...                  ...   \n",
       "2584129           Consent provided           Web           2017-02-09   \n",
       "2584130           Consent provided           Web           2015-04-29   \n",
       "2584131           Consent provided           Web           2017-03-31   \n",
       "2584132           Consent provided           Web           2017-01-16   \n",
       "2584133                        NaN      Referral           2018-03-08   \n",
       "\n",
       "            Company response to consumer Timely response? Consumer disputed?  \\\n",
       "0        Closed with non-monetary relief              Yes                NaN   \n",
       "1                Closed with explanation              Yes                NaN   \n",
       "2                Closed with explanation              Yes                NaN   \n",
       "3                Closed with explanation              Yes                NaN   \n",
       "4                Closed with explanation              Yes                NaN   \n",
       "...                                  ...              ...                ...   \n",
       "2584129          Closed with explanation              Yes                 No   \n",
       "2584130          Closed with explanation              Yes                 No   \n",
       "2584131  Closed with non-monetary relief              Yes                Yes   \n",
       "2584132          Closed with explanation              Yes                 No   \n",
       "2584133          Closed with explanation              Yes                NaN   \n",
       "\n",
       "         Complaint ID  \n",
       "0             5177559  \n",
       "1             5321616  \n",
       "2             5319887  \n",
       "3             5320509  \n",
       "4             5330683  \n",
       "...               ...  \n",
       "2584129       2334969  \n",
       "2584130       1352738  \n",
       "2584131       2412926  \n",
       "2584132       2292586  \n",
       "2584133       2837068  \n",
       "\n",
       "[2584134 rows x 18 columns]"
      ]
     },
     "execution_count": 21,
     "metadata": {},
     "output_type": "execute_result"
    }
   ],
   "source": [
    "Df"
   ]
  },
  {
   "cell_type": "markdown",
   "id": "e87fb8a0",
   "metadata": {},
   "source": [
    "### Create Data received column in the dataframe as a constant"
   ]
  },
  {
   "cell_type": "code",
   "execution_count": 23,
   "id": "4a570788",
   "metadata": {},
   "outputs": [],
   "source": [
    "c=tf.constant(Df['Date received'])"
   ]
  },
  {
   "cell_type": "code",
   "execution_count": 24,
   "id": "e7aa7584",
   "metadata": {},
   "outputs": [
    {
     "data": {
      "text/plain": [
       "<tf.Tensor: shape=(2584134,), dtype=string, numpy=\n",
       "array([b'2022-02-02', b'2022-03-14', b'2022-03-14', ..., b'2017-03-31',\n",
       "       b'2017-01-16', b'2018-03-07'], dtype=object)>"
      ]
     },
     "execution_count": 24,
     "metadata": {},
     "output_type": "execute_result"
    }
   ],
   "source": [
    "c"
   ]
  },
  {
   "cell_type": "code",
   "execution_count": 28,
   "id": "f10ee575",
   "metadata": {},
   "outputs": [],
   "source": [
    "a = tf.constant([2, 3, 4, 5], shape=(2, 2), dtype=\"float32\")"
   ]
  },
  {
   "cell_type": "code",
   "execution_count": 29,
   "id": "5a2bee5b",
   "metadata": {},
   "outputs": [
    {
     "data": {
      "text/plain": [
       "<tf.Tensor: shape=(2, 2), dtype=float32, numpy=\n",
       "array([[2., 3.],\n",
       "       [4., 5.]], dtype=float32)>"
      ]
     },
     "execution_count": 29,
     "metadata": {},
     "output_type": "execute_result"
    }
   ],
   "source": [
    "a"
   ]
  },
  {
   "cell_type": "code",
   "execution_count": 34,
   "id": "51ef6c6d",
   "metadata": {},
   "outputs": [
    {
     "data": {
      "text/plain": [
       "<tf.Tensor: shape=(2, 2), dtype=int32, numpy=\n",
       "array([[2, 3],\n",
       "       [4, 5]])>"
      ]
     },
     "execution_count": 34,
     "metadata": {},
     "output_type": "execute_result"
    }
   ],
   "source": [
    "b = tf.constant([2, 3, 4, 5], shape=(2, 2))\n",
    "b"
   ]
  },
  {
   "cell_type": "code",
   "execution_count": 43,
   "id": "1b819edd",
   "metadata": {},
   "outputs": [],
   "source": [
    "a = tf.constant([[[[2, 3, 4, 5], [3, 4, 5, 6], [4, 5, 6, 7], [6, 7, 8, 9]]]], dtype=\"float32\")"
   ]
  },
  {
   "cell_type": "code",
   "execution_count": 44,
   "id": "d931a076",
   "metadata": {},
   "outputs": [
    {
     "data": {
      "text/plain": [
       "<tf.Tensor: shape=(1, 1, 4, 4), dtype=float32, numpy=\n",
       "array([[[[2., 3., 4., 5.],\n",
       "         [3., 4., 5., 6.],\n",
       "         [4., 5., 6., 7.],\n",
       "         [6., 7., 8., 9.]]]], dtype=float32)>"
      ]
     },
     "execution_count": 44,
     "metadata": {},
     "output_type": "execute_result"
    }
   ],
   "source": [
    "a"
   ]
  },
  {
   "cell_type": "code",
   "execution_count": 37,
   "id": "99d7fd1e",
   "metadata": {},
   "outputs": [
    {
     "data": {
      "text/plain": [
       "tensorflow.python.framework.ops.EagerTensor"
      ]
     },
     "execution_count": 37,
     "metadata": {},
     "output_type": "execute_result"
    }
   ],
   "source": [
    "type(a)"
   ]
  },
  {
   "cell_type": "code",
   "execution_count": 38,
   "id": "06690cdc",
   "metadata": {},
   "outputs": [
    {
     "data": {
      "text/plain": [
       "TensorShape([1, 1, 4, 4])"
      ]
     },
     "execution_count": 38,
     "metadata": {},
     "output_type": "execute_result"
    }
   ],
   "source": [
    "a.shape"
   ]
  },
  {
   "cell_type": "code",
   "execution_count": 39,
   "id": "f6a0b064",
   "metadata": {},
   "outputs": [
    {
     "data": {
      "text/plain": [
       "array([[[[2., 3., 4., 5.],\n",
       "         [3., 4., 5., 6.],\n",
       "         [4., 5., 6., 7.],\n",
       "         [6., 7., 8., 9.]]]], dtype=float32)"
      ]
     },
     "execution_count": 39,
     "metadata": {},
     "output_type": "execute_result"
    }
   ],
   "source": [
    "a.numpy()"
   ]
  },
  {
   "cell_type": "code",
   "execution_count": 42,
   "id": "4454daa3",
   "metadata": {},
   "outputs": [
    {
     "data": {
      "text/plain": [
       "4"
      ]
     },
     "execution_count": 42,
     "metadata": {},
     "output_type": "execute_result"
    }
   ],
   "source": [
    "a.ndim"
   ]
  },
  {
   "cell_type": "code",
   "execution_count": 45,
   "id": "e9f436e1",
   "metadata": {},
   "outputs": [
    {
     "data": {
      "text/plain": [
       "tf.float32"
      ]
     },
     "execution_count": 45,
     "metadata": {},
     "output_type": "execute_result"
    }
   ],
   "source": [
    "a.dtype"
   ]
  },
  {
   "cell_type": "code",
   "execution_count": null,
   "id": "09a1c134",
   "metadata": {},
   "outputs": [],
   "source": []
  }
 ],
 "metadata": {
  "kernelspec": {
   "display_name": "Python 3",
   "language": "python",
   "name": "python3"
  },
  "language_info": {
   "codemirror_mode": {
    "name": "ipython",
    "version": 3
   },
   "file_extension": ".py",
   "mimetype": "text/x-python",
   "name": "python",
   "nbconvert_exporter": "python",
   "pygments_lexer": "ipython3",
   "version": "3.8.8"
  }
 },
 "nbformat": 4,
 "nbformat_minor": 5
}
