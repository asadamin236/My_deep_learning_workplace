{
 "cells": [
  {
   "cell_type": "markdown",
   "id": "9a5028ed",
   "metadata": {},
   "source": [
    "## Deep learning variables\n",
    "#### Deep learning tensorflow variables is mutable because we can be change it."
   ]
  },
  {
   "cell_type": "markdown",
   "id": "031c9520",
   "metadata": {},
   "source": [
    "### Import library tensorflow"
   ]
  },
  {
   "cell_type": "code",
   "execution_count": 1,
   "id": "f300c694",
   "metadata": {},
   "outputs": [],
   "source": [
    "import tensorflow as tf"
   ]
  },
  {
   "cell_type": "markdown",
   "id": "4dcc2091",
   "metadata": {},
   "source": [
    "### Create variables integer, string, float and boolean"
   ]
  },
  {
   "cell_type": "code",
   "execution_count": 31,
   "id": "2b3966b0",
   "metadata": {},
   "outputs": [
    {
     "data": {
      "text/plain": [
       "<tf.Variable 'Variable:0' shape=(6,) dtype=int32, numpy=array([1, 2, 3, 4, 5, 6])>"
      ]
     },
     "execution_count": 31,
     "metadata": {},
     "output_type": "execute_result"
    }
   ],
   "source": [
    "tf_int=tf.Variable([1, 2, 3, 4, 5, 6])\n",
    "tf_int"
   ]
  },
  {
   "cell_type": "code",
   "execution_count": 32,
   "id": "d3f78ca5",
   "metadata": {},
   "outputs": [
    {
     "data": {
      "text/plain": [
       "<tf.Variable 'Variable:0' shape=() dtype=int32, numpy=20>"
      ]
     },
     "execution_count": 32,
     "metadata": {},
     "output_type": "execute_result"
    }
   ],
   "source": [
    "tf2_int=tf.Variable(20)\n",
    "tf2_int"
   ]
  },
  {
   "cell_type": "code",
   "execution_count": 33,
   "id": "414273ed",
   "metadata": {},
   "outputs": [
    {
     "data": {
      "text/plain": [
       "<tf.Variable 'Variable:0' shape=() dtype=float32, numpy=10.5>"
      ]
     },
     "execution_count": 33,
     "metadata": {},
     "output_type": "execute_result"
    }
   ],
   "source": [
    "tf_float=tf.Variable(10.5)\n",
    "tf_float"
   ]
  },
  {
   "cell_type": "code",
   "execution_count": 34,
   "id": "50bbdcdd",
   "metadata": {},
   "outputs": [
    {
     "data": {
      "text/plain": [
       "<tf.Variable 'Variable:0' shape=() dtype=string, numpy=b'Asad'>"
      ]
     },
     "execution_count": 34,
     "metadata": {},
     "output_type": "execute_result"
    }
   ],
   "source": [
    "tf_str=tf.Variable('Asad')\n",
    "tf_str"
   ]
  },
  {
   "cell_type": "code",
   "execution_count": 10,
   "id": "b48779a6",
   "metadata": {},
   "outputs": [
    {
     "data": {
      "text/plain": [
       "<tf.Variable 'Variable:0' shape=(1, 3, 3) dtype=int32, numpy=\n",
       "array([[[1, 2, 3],\n",
       "        [4, 5, 6],\n",
       "        [7, 8, 9]]])>"
      ]
     },
     "execution_count": 10,
     "metadata": {},
     "output_type": "execute_result"
    }
   ],
   "source": [
    "a=tf.Variable([[[1, 2, 3], [4, 5, 6], [7, 8, 9]]])\n",
    "a"
   ]
  },
  {
   "cell_type": "markdown",
   "id": "375d5f76",
   "metadata": {},
   "source": [
    "### Check for the name if variable or not?"
   ]
  },
  {
   "cell_type": "code",
   "execution_count": 15,
   "id": "ec3e4bbd",
   "metadata": {},
   "outputs": [
    {
     "data": {
      "text/plain": [
       "'Variable:0'"
      ]
     },
     "execution_count": 15,
     "metadata": {},
     "output_type": "execute_result"
    }
   ],
   "source": [
    "a.name"
   ]
  },
  {
   "cell_type": "markdown",
   "id": "98f5f982",
   "metadata": {},
   "source": [
    "### Find data type of the variable"
   ]
  },
  {
   "cell_type": "code",
   "execution_count": 16,
   "id": "b37e9205",
   "metadata": {},
   "outputs": [
    {
     "data": {
      "text/plain": [
       "tf.int32"
      ]
     },
     "execution_count": 16,
     "metadata": {},
     "output_type": "execute_result"
    }
   ],
   "source": [
    "a.dtype"
   ]
  },
  {
   "cell_type": "markdown",
   "id": "37584282",
   "metadata": {},
   "source": [
    "### Convert tensorflow variable into numpy array"
   ]
  },
  {
   "cell_type": "code",
   "execution_count": 18,
   "id": "d5c25cc3",
   "metadata": {},
   "outputs": [
    {
     "data": {
      "text/plain": [
       "array([[[1, 2, 3],\n",
       "        [4, 5, 6],\n",
       "        [7, 8, 9]]])"
      ]
     },
     "execution_count": 18,
     "metadata": {},
     "output_type": "execute_result"
    }
   ],
   "source": [
    "a.numpy()"
   ]
  },
  {
   "cell_type": "markdown",
   "id": "494b594c",
   "metadata": {},
   "source": [
    "### Boolean variable in tensorflow"
   ]
  },
  {
   "cell_type": "code",
   "execution_count": 35,
   "id": "fe6612d8",
   "metadata": {},
   "outputs": [
    {
     "data": {
      "text/plain": [
       "<tf.Variable 'Variable:0' shape=(4,) dtype=bool, numpy=array([ True, False,  True, False])>"
      ]
     },
     "execution_count": 35,
     "metadata": {},
     "output_type": "execute_result"
    }
   ],
   "source": [
    "tf_bool = tf.Variable([True, False, True, False], [True, False, False, True])\n",
    "tf_bool"
   ]
  },
  {
   "cell_type": "markdown",
   "id": "09f99d7a",
   "metadata": {},
   "source": [
    "### Complex numbers in tensorflow variables and its dtype and then convert to numpy array"
   ]
  },
  {
   "cell_type": "code",
   "execution_count": 38,
   "id": "6dd2201e",
   "metadata": {},
   "outputs": [
    {
     "data": {
      "text/plain": [
       "<tf.Variable 'Variable:0' shape=(1,) dtype=complex128, numpy=array([4.+5.j])>"
      ]
     },
     "execution_count": 38,
     "metadata": {},
     "output_type": "execute_result"
    }
   ],
   "source": [
    "tf_complex = tf.Variable([4 + 5j])\n",
    "tf_complex"
   ]
  },
  {
   "cell_type": "code",
   "execution_count": 39,
   "id": "132081ce",
   "metadata": {},
   "outputs": [
    {
     "data": {
      "text/plain": [
       "tf.complex128"
      ]
     },
     "execution_count": 39,
     "metadata": {},
     "output_type": "execute_result"
    }
   ],
   "source": [
    "tf_complex.dtype"
   ]
  },
  {
   "cell_type": "code",
   "execution_count": 40,
   "id": "d667daf5",
   "metadata": {},
   "outputs": [
    {
     "data": {
      "text/plain": [
       "array([4.+5.j])"
      ]
     },
     "execution_count": 40,
     "metadata": {},
     "output_type": "execute_result"
    }
   ],
   "source": [
    "tf_complex.numpy()"
   ]
  },
  {
   "cell_type": "markdown",
   "id": "c1cf27e0",
   "metadata": {},
   "source": [
    "### Change tensoflow variable into constant"
   ]
  },
  {
   "cell_type": "code",
   "execution_count": 42,
   "id": "be245add",
   "metadata": {},
   "outputs": [
    {
     "data": {
      "text/plain": [
       "<tf.Tensor: shape=(1,), dtype=complex128, numpy=array([4.+5.j])>"
      ]
     },
     "execution_count": 42,
     "metadata": {},
     "output_type": "execute_result"
    }
   ],
   "source": [
    "tf_cons = tf.constant(tf_complex)\n",
    "tf_cons"
   ]
  },
  {
   "cell_type": "markdown",
   "id": "038cc693",
   "metadata": {},
   "source": [
    "### Create tensorflow constant and then convert into tensorflow variable "
   ]
  },
  {
   "cell_type": "code",
   "execution_count": 43,
   "id": "75fcb280",
   "metadata": {},
   "outputs": [
    {
     "data": {
      "text/plain": [
       "<tf.Tensor: shape=(2, 4), dtype=int32, numpy=\n",
       "array([[1, 2, 3, 4],\n",
       "       [5, 6, 7, 8]])>"
      ]
     },
     "execution_count": 43,
     "metadata": {},
     "output_type": "execute_result"
    }
   ],
   "source": [
    "tf_const =tf.constant([[1, 2, 3, 4],[5, 6, 7, 8]])\n",
    "tf_const"
   ]
  },
  {
   "cell_type": "markdown",
   "id": "057d45cd",
   "metadata": {},
   "source": [
    "### Reshape the above constant"
   ]
  },
  {
   "cell_type": "code",
   "execution_count": 45,
   "id": "9e31fa35",
   "metadata": {},
   "outputs": [
    {
     "data": {
      "text/plain": [
       "<tf.Tensor: shape=(4, 2), dtype=int32, numpy=\n",
       "array([[1, 2],\n",
       "       [3, 4],\n",
       "       [5, 6],\n",
       "       [7, 8]])>"
      ]
     },
     "execution_count": 45,
     "metadata": {},
     "output_type": "execute_result"
    }
   ],
   "source": [
    "tf.reshape(tf_const, shape=(4, 2))"
   ]
  },
  {
   "cell_type": "code",
   "execution_count": 46,
   "id": "1820cabf",
   "metadata": {},
   "outputs": [
    {
     "data": {
      "text/plain": [
       "<tf.Variable 'Variable:0' shape=(2, 4) dtype=int32, numpy=\n",
       "array([[1, 2, 3, 4],\n",
       "       [5, 6, 7, 8]])>"
      ]
     },
     "execution_count": 46,
     "metadata": {},
     "output_type": "execute_result"
    }
   ],
   "source": [
    "tf_var = tf.Variable(tf_const)\n",
    "tf_var"
   ]
  },
  {
   "cell_type": "markdown",
   "id": "d2140c06",
   "metadata": {},
   "source": [
    "### Get maximum value index from any variable in tensorflow"
   ]
  },
  {
   "cell_type": "code",
   "execution_count": 47,
   "id": "3f0dd337",
   "metadata": {},
   "outputs": [
    {
     "data": {
      "text/plain": [
       "<tf.Variable 'Variable:0' shape=(2, 4) dtype=int32, numpy=\n",
       "array([[1, 2, 3, 4],\n",
       "       [5, 6, 7, 8]])>"
      ]
     },
     "execution_count": 47,
     "metadata": {},
     "output_type": "execute_result"
    }
   ],
   "source": [
    "tf_var"
   ]
  },
  {
   "cell_type": "code",
   "execution_count": 49,
   "id": "e356242a",
   "metadata": {},
   "outputs": [
    {
     "data": {
      "text/plain": [
       "<tf.Tensor: shape=(4,), dtype=int64, numpy=array([1, 1, 1, 1], dtype=int64)>"
      ]
     },
     "execution_count": 49,
     "metadata": {},
     "output_type": "execute_result"
    }
   ],
   "source": [
    "tf_max_index=tf.argmax(tf_var)\n",
    "tf_max_index"
   ]
  },
  {
   "cell_type": "code",
   "execution_count": 50,
   "id": "18f34d2c",
   "metadata": {},
   "outputs": [
    {
     "data": {
      "text/plain": [
       "array([1, 1, 1, 1], dtype=int64)"
      ]
     },
     "execution_count": 50,
     "metadata": {},
     "output_type": "execute_result"
    }
   ],
   "source": [
    "tf_max_index.numpy()"
   ]
  },
  {
   "cell_type": "code",
   "execution_count": 51,
   "id": "422b98b8",
   "metadata": {},
   "outputs": [
    {
     "data": {
      "text/plain": [
       "<tf.Tensor: shape=(4,), dtype=int64, numpy=array([0, 0, 0, 0], dtype=int64)>"
      ]
     },
     "execution_count": 51,
     "metadata": {},
     "output_type": "execute_result"
    }
   ],
   "source": [
    "tf_min_index = tf.argmin(tf_var)\n",
    "tf_min_index"
   ]
  },
  {
   "cell_type": "code",
   "execution_count": 52,
   "id": "664b96cf",
   "metadata": {},
   "outputs": [
    {
     "data": {
      "text/plain": [
       "array([0, 0, 0, 0], dtype=int64)"
      ]
     },
     "execution_count": 52,
     "metadata": {},
     "output_type": "execute_result"
    }
   ],
   "source": [
    "tf_min_index.numpy()"
   ]
  },
  {
   "cell_type": "markdown",
   "id": "9e182b40",
   "metadata": {},
   "source": [
    "### Variable convert to a tensor"
   ]
  },
  {
   "cell_type": "code",
   "execution_count": 53,
   "id": "a9116c32",
   "metadata": {},
   "outputs": [
    {
     "data": {
      "text/plain": [
       "<tf.Variable 'Variable:0' shape=(2, 4) dtype=int32, numpy=\n",
       "array([[1, 2, 3, 4],\n",
       "       [5, 6, 7, 8]])>"
      ]
     },
     "execution_count": 53,
     "metadata": {},
     "output_type": "execute_result"
    }
   ],
   "source": [
    "tf_var"
   ]
  },
  {
   "cell_type": "code",
   "execution_count": 54,
   "id": "6a035e4d",
   "metadata": {},
   "outputs": [
    {
     "data": {
      "text/plain": [
       "<tf.Tensor: shape=(2, 4), dtype=int32, numpy=\n",
       "array([[1, 2, 3, 4],\n",
       "       [5, 6, 7, 8]])>"
      ]
     },
     "execution_count": 54,
     "metadata": {},
     "output_type": "execute_result"
    }
   ],
   "source": [
    "tf.convert_to_tensor(tf_var)"
   ]
  },
  {
   "cell_type": "code",
   "execution_count": 55,
   "id": "93bc7df8",
   "metadata": {},
   "outputs": [
    {
     "data": {
      "text/plain": [
       "<tf.Variable 'Variable:0' shape=(2, 4) dtype=int32, numpy=\n",
       "array([[1, 2, 3, 4],\n",
       "       [5, 6, 7, 8]])>"
      ]
     },
     "execution_count": 55,
     "metadata": {},
     "output_type": "execute_result"
    }
   ],
   "source": [
    "tf_var1 =tf_var\n",
    "tf_var1"
   ]
  },
  {
   "cell_type": "markdown",
   "id": "26636363",
   "metadata": {},
   "source": [
    "### Assign new values to tf_var tensor"
   ]
  },
  {
   "cell_type": "code",
   "execution_count": 56,
   "id": "66f598b6",
   "metadata": {},
   "outputs": [
    {
     "data": {
      "text/plain": [
       "<tf.Variable 'UnreadVariable' shape=(2, 4) dtype=int32, numpy=\n",
       "array([[2, 4, 6, 8],\n",
       "       [2, 3, 5, 8]])>"
      ]
     },
     "execution_count": 56,
     "metadata": {},
     "output_type": "execute_result"
    }
   ],
   "source": [
    "tf_new_values=tf_var1.assign([[2, 4, 6, 8], [2, 3, 5, 8]])\n",
    "tf_new_values"
   ]
  },
  {
   "cell_type": "markdown",
   "id": "b0d33465",
   "metadata": {},
   "source": [
    "### Assign add variable"
   ]
  },
  {
   "cell_type": "code",
   "execution_count": 61,
   "id": "7d394bb6",
   "metadata": {},
   "outputs": [
    {
     "data": {
      "text/plain": [
       "<tf.Variable 'UnreadVariable' shape=(2, 4) dtype=int32, numpy=\n",
       "array([[ 4,  8, 12, 16],\n",
       "       [ 4,  6, 10, 16]])>"
      ]
     },
     "execution_count": 61,
     "metadata": {},
     "output_type": "execute_result"
    }
   ],
   "source": [
    "tf_new_values.assign_add([[2, 4, 6, 8], [2, 3, 5, 8]])"
   ]
  },
  {
   "cell_type": "code",
   "execution_count": null,
   "id": "0b72750b",
   "metadata": {},
   "outputs": [],
   "source": []
  },
  {
   "cell_type": "markdown",
   "id": "1d2bbc6a",
   "metadata": {},
   "source": [
    "### Import pandas library and read csv file for applyig variable function of tensorflow"
   ]
  },
  {
   "cell_type": "code",
   "execution_count": 19,
   "id": "b973c7b6",
   "metadata": {},
   "outputs": [],
   "source": [
    "import pandas as pd"
   ]
  },
  {
   "cell_type": "code",
   "execution_count": 20,
   "id": "61068532",
   "metadata": {},
   "outputs": [
    {
     "name": "stderr",
     "output_type": "stream",
     "text": [
      "C:\\Users\\ASAD\\anaconda3\\lib\\site-packages\\IPython\\core\\interactiveshell.py:3165: DtypeWarning: Columns (9) have mixed types.Specify dtype option on import or set low_memory=False.\n",
      "  has_raised = await self.run_ast_nodes(code_ast.body, cell_name,\n"
     ]
    }
   ],
   "source": [
    "Df=pd.read_csv('C:/Users/ASAD/Downloads/Compressed/complaints.csv')"
   ]
  },
  {
   "cell_type": "code",
   "execution_count": 21,
   "id": "274ead0d",
   "metadata": {},
   "outputs": [
    {
     "data": {
      "text/html": [
       "<div>\n",
       "<style scoped>\n",
       "    .dataframe tbody tr th:only-of-type {\n",
       "        vertical-align: middle;\n",
       "    }\n",
       "\n",
       "    .dataframe tbody tr th {\n",
       "        vertical-align: top;\n",
       "    }\n",
       "\n",
       "    .dataframe thead th {\n",
       "        text-align: right;\n",
       "    }\n",
       "</style>\n",
       "<table border=\"1\" class=\"dataframe\">\n",
       "  <thead>\n",
       "    <tr style=\"text-align: right;\">\n",
       "      <th></th>\n",
       "      <th>Date received</th>\n",
       "      <th>Product</th>\n",
       "      <th>Sub-product</th>\n",
       "      <th>Issue</th>\n",
       "      <th>Sub-issue</th>\n",
       "      <th>Consumer complaint narrative</th>\n",
       "      <th>Company public response</th>\n",
       "      <th>Company</th>\n",
       "      <th>State</th>\n",
       "      <th>ZIP code</th>\n",
       "      <th>Tags</th>\n",
       "      <th>Consumer consent provided?</th>\n",
       "      <th>Submitted via</th>\n",
       "      <th>Date sent to company</th>\n",
       "      <th>Company response to consumer</th>\n",
       "      <th>Timely response?</th>\n",
       "      <th>Consumer disputed?</th>\n",
       "      <th>Complaint ID</th>\n",
       "    </tr>\n",
       "  </thead>\n",
       "  <tbody>\n",
       "    <tr>\n",
       "      <th>0</th>\n",
       "      <td>2022-02-02</td>\n",
       "      <td>Credit reporting, credit repair services, or o...</td>\n",
       "      <td>Credit reporting</td>\n",
       "      <td>Problem with a credit reporting company's inve...</td>\n",
       "      <td>Investigation took more than 30 days</td>\n",
       "      <td>NaN</td>\n",
       "      <td>Company has responded to the consumer and the ...</td>\n",
       "      <td>TRANSUNION INTERMEDIATE HOLDINGS, INC.</td>\n",
       "      <td>NY</td>\n",
       "      <td>12919.0</td>\n",
       "      <td>NaN</td>\n",
       "      <td>Consent not provided</td>\n",
       "      <td>Web</td>\n",
       "      <td>2022-02-02</td>\n",
       "      <td>Closed with non-monetary relief</td>\n",
       "      <td>Yes</td>\n",
       "      <td>NaN</td>\n",
       "      <td>5177559</td>\n",
       "    </tr>\n",
       "    <tr>\n",
       "      <th>1</th>\n",
       "      <td>2022-03-14</td>\n",
       "      <td>Credit reporting, credit repair services, or o...</td>\n",
       "      <td>Credit reporting</td>\n",
       "      <td>Incorrect information on your report</td>\n",
       "      <td>Information belongs to someone else</td>\n",
       "      <td>NaN</td>\n",
       "      <td>NaN</td>\n",
       "      <td>EQUIFAX, INC.</td>\n",
       "      <td>WA</td>\n",
       "      <td>98056.0</td>\n",
       "      <td>NaN</td>\n",
       "      <td>NaN</td>\n",
       "      <td>Web</td>\n",
       "      <td>2022-03-14</td>\n",
       "      <td>Closed with explanation</td>\n",
       "      <td>Yes</td>\n",
       "      <td>NaN</td>\n",
       "      <td>5321616</td>\n",
       "    </tr>\n",
       "    <tr>\n",
       "      <th>2</th>\n",
       "      <td>2022-03-14</td>\n",
       "      <td>Credit reporting, credit repair services, or o...</td>\n",
       "      <td>Credit reporting</td>\n",
       "      <td>Problem with a credit reporting company's inve...</td>\n",
       "      <td>Investigation took more than 30 days</td>\n",
       "      <td>NaN</td>\n",
       "      <td>NaN</td>\n",
       "      <td>EQUIFAX, INC.</td>\n",
       "      <td>GA</td>\n",
       "      <td>31909.0</td>\n",
       "      <td>NaN</td>\n",
       "      <td>NaN</td>\n",
       "      <td>Web</td>\n",
       "      <td>2022-03-14</td>\n",
       "      <td>Closed with explanation</td>\n",
       "      <td>Yes</td>\n",
       "      <td>NaN</td>\n",
       "      <td>5319887</td>\n",
       "    </tr>\n",
       "    <tr>\n",
       "      <th>3</th>\n",
       "      <td>2022-03-14</td>\n",
       "      <td>Credit reporting, credit repair services, or o...</td>\n",
       "      <td>Credit reporting</td>\n",
       "      <td>Problem with a credit reporting company's inve...</td>\n",
       "      <td>Their investigation did not fix an error on yo...</td>\n",
       "      <td>NaN</td>\n",
       "      <td>NaN</td>\n",
       "      <td>EQUIFAX, INC.</td>\n",
       "      <td>OH</td>\n",
       "      <td>44133.0</td>\n",
       "      <td>NaN</td>\n",
       "      <td>Other</td>\n",
       "      <td>Web</td>\n",
       "      <td>2022-03-14</td>\n",
       "      <td>Closed with explanation</td>\n",
       "      <td>Yes</td>\n",
       "      <td>NaN</td>\n",
       "      <td>5320509</td>\n",
       "    </tr>\n",
       "    <tr>\n",
       "      <th>4</th>\n",
       "      <td>2022-03-16</td>\n",
       "      <td>Mortgage</td>\n",
       "      <td>Conventional home mortgage</td>\n",
       "      <td>Trouble during payment process</td>\n",
       "      <td>NaN</td>\n",
       "      <td>NaN</td>\n",
       "      <td>Company has responded to the consumer and the ...</td>\n",
       "      <td>LoanCare, LLC</td>\n",
       "      <td>CA</td>\n",
       "      <td>90405.0</td>\n",
       "      <td>NaN</td>\n",
       "      <td>Consent not provided</td>\n",
       "      <td>Web</td>\n",
       "      <td>2022-03-31</td>\n",
       "      <td>Closed with explanation</td>\n",
       "      <td>Yes</td>\n",
       "      <td>NaN</td>\n",
       "      <td>5330683</td>\n",
       "    </tr>\n",
       "    <tr>\n",
       "      <th>...</th>\n",
       "      <td>...</td>\n",
       "      <td>...</td>\n",
       "      <td>...</td>\n",
       "      <td>...</td>\n",
       "      <td>...</td>\n",
       "      <td>...</td>\n",
       "      <td>...</td>\n",
       "      <td>...</td>\n",
       "      <td>...</td>\n",
       "      <td>...</td>\n",
       "      <td>...</td>\n",
       "      <td>...</td>\n",
       "      <td>...</td>\n",
       "      <td>...</td>\n",
       "      <td>...</td>\n",
       "      <td>...</td>\n",
       "      <td>...</td>\n",
       "      <td>...</td>\n",
       "    </tr>\n",
       "    <tr>\n",
       "      <th>2584129</th>\n",
       "      <td>2017-02-09</td>\n",
       "      <td>Debt collection</td>\n",
       "      <td>I do not know</td>\n",
       "      <td>Cont'd attempts collect debt not owed</td>\n",
       "      <td>Debt resulted from identity theft</td>\n",
       "      <td>I have disputed my debts several times with no...</td>\n",
       "      <td>NaN</td>\n",
       "      <td>Bonneville Billing and Collections</td>\n",
       "      <td>UT</td>\n",
       "      <td>84054</td>\n",
       "      <td>Servicemember</td>\n",
       "      <td>Consent provided</td>\n",
       "      <td>Web</td>\n",
       "      <td>2017-02-09</td>\n",
       "      <td>Closed with explanation</td>\n",
       "      <td>Yes</td>\n",
       "      <td>No</td>\n",
       "      <td>2334969</td>\n",
       "    </tr>\n",
       "    <tr>\n",
       "      <th>2584130</th>\n",
       "      <td>2015-04-29</td>\n",
       "      <td>Mortgage</td>\n",
       "      <td>Conventional fixed mortgage</td>\n",
       "      <td>Loan modification,collection,foreclosure</td>\n",
       "      <td>NaN</td>\n",
       "      <td>My father died in XX/XX/XXXX. Left me his only...</td>\n",
       "      <td>NaN</td>\n",
       "      <td>CITIBANK, N.A.</td>\n",
       "      <td>OK</td>\n",
       "      <td>74066</td>\n",
       "      <td>NaN</td>\n",
       "      <td>Consent provided</td>\n",
       "      <td>Web</td>\n",
       "      <td>2015-04-29</td>\n",
       "      <td>Closed with explanation</td>\n",
       "      <td>Yes</td>\n",
       "      <td>No</td>\n",
       "      <td>1352738</td>\n",
       "    </tr>\n",
       "    <tr>\n",
       "      <th>2584131</th>\n",
       "      <td>2017-03-31</td>\n",
       "      <td>Credit reporting</td>\n",
       "      <td>NaN</td>\n",
       "      <td>Credit reporting company's investigation</td>\n",
       "      <td>No notice of investigation status/result</td>\n",
       "      <td>cfbp i would Like to file a complaint on Exper...</td>\n",
       "      <td>Company has responded to the consumer and the ...</td>\n",
       "      <td>Experian Information Solutions Inc.</td>\n",
       "      <td>MN</td>\n",
       "      <td>55379</td>\n",
       "      <td>NaN</td>\n",
       "      <td>Consent provided</td>\n",
       "      <td>Web</td>\n",
       "      <td>2017-03-31</td>\n",
       "      <td>Closed with non-monetary relief</td>\n",
       "      <td>Yes</td>\n",
       "      <td>Yes</td>\n",
       "      <td>2412926</td>\n",
       "    </tr>\n",
       "    <tr>\n",
       "      <th>2584132</th>\n",
       "      <td>2017-01-16</td>\n",
       "      <td>Credit reporting</td>\n",
       "      <td>NaN</td>\n",
       "      <td>Incorrect information on credit report</td>\n",
       "      <td>Account status</td>\n",
       "      <td>My husband and I are in the middle of an FHA S...</td>\n",
       "      <td>Company has responded to the consumer and the ...</td>\n",
       "      <td>TRANSUNION INTERMEDIATE HOLDINGS, INC.</td>\n",
       "      <td>GA</td>\n",
       "      <td>30215</td>\n",
       "      <td>NaN</td>\n",
       "      <td>Consent provided</td>\n",
       "      <td>Web</td>\n",
       "      <td>2017-01-16</td>\n",
       "      <td>Closed with explanation</td>\n",
       "      <td>Yes</td>\n",
       "      <td>No</td>\n",
       "      <td>2292586</td>\n",
       "    </tr>\n",
       "    <tr>\n",
       "      <th>2584133</th>\n",
       "      <td>2018-03-07</td>\n",
       "      <td>Mortgage</td>\n",
       "      <td>Other type of mortgage</td>\n",
       "      <td>Trouble during payment process</td>\n",
       "      <td>NaN</td>\n",
       "      <td>NaN</td>\n",
       "      <td>Company has responded to the consumer and the ...</td>\n",
       "      <td>WELLS FARGO &amp; COMPANY</td>\n",
       "      <td>CA</td>\n",
       "      <td>91304</td>\n",
       "      <td>NaN</td>\n",
       "      <td>NaN</td>\n",
       "      <td>Referral</td>\n",
       "      <td>2018-03-08</td>\n",
       "      <td>Closed with explanation</td>\n",
       "      <td>Yes</td>\n",
       "      <td>NaN</td>\n",
       "      <td>2837068</td>\n",
       "    </tr>\n",
       "  </tbody>\n",
       "</table>\n",
       "<p>2584134 rows × 18 columns</p>\n",
       "</div>"
      ],
      "text/plain": [
       "        Date received                                            Product  \\\n",
       "0          2022-02-02  Credit reporting, credit repair services, or o...   \n",
       "1          2022-03-14  Credit reporting, credit repair services, or o...   \n",
       "2          2022-03-14  Credit reporting, credit repair services, or o...   \n",
       "3          2022-03-14  Credit reporting, credit repair services, or o...   \n",
       "4          2022-03-16                                           Mortgage   \n",
       "...               ...                                                ...   \n",
       "2584129    2017-02-09                                    Debt collection   \n",
       "2584130    2015-04-29                                           Mortgage   \n",
       "2584131    2017-03-31                                   Credit reporting   \n",
       "2584132    2017-01-16                                   Credit reporting   \n",
       "2584133    2018-03-07                                           Mortgage   \n",
       "\n",
       "                         Sub-product  \\\n",
       "0                   Credit reporting   \n",
       "1                   Credit reporting   \n",
       "2                   Credit reporting   \n",
       "3                   Credit reporting   \n",
       "4         Conventional home mortgage   \n",
       "...                              ...   \n",
       "2584129                I do not know   \n",
       "2584130  Conventional fixed mortgage   \n",
       "2584131                          NaN   \n",
       "2584132                          NaN   \n",
       "2584133       Other type of mortgage   \n",
       "\n",
       "                                                     Issue  \\\n",
       "0        Problem with a credit reporting company's inve...   \n",
       "1                     Incorrect information on your report   \n",
       "2        Problem with a credit reporting company's inve...   \n",
       "3        Problem with a credit reporting company's inve...   \n",
       "4                           Trouble during payment process   \n",
       "...                                                    ...   \n",
       "2584129              Cont'd attempts collect debt not owed   \n",
       "2584130           Loan modification,collection,foreclosure   \n",
       "2584131           Credit reporting company's investigation   \n",
       "2584132             Incorrect information on credit report   \n",
       "2584133                     Trouble during payment process   \n",
       "\n",
       "                                                 Sub-issue  \\\n",
       "0                     Investigation took more than 30 days   \n",
       "1                      Information belongs to someone else   \n",
       "2                     Investigation took more than 30 days   \n",
       "3        Their investigation did not fix an error on yo...   \n",
       "4                                                      NaN   \n",
       "...                                                    ...   \n",
       "2584129                  Debt resulted from identity theft   \n",
       "2584130                                                NaN   \n",
       "2584131           No notice of investigation status/result   \n",
       "2584132                                     Account status   \n",
       "2584133                                                NaN   \n",
       "\n",
       "                              Consumer complaint narrative  \\\n",
       "0                                                      NaN   \n",
       "1                                                      NaN   \n",
       "2                                                      NaN   \n",
       "3                                                      NaN   \n",
       "4                                                      NaN   \n",
       "...                                                    ...   \n",
       "2584129  I have disputed my debts several times with no...   \n",
       "2584130  My father died in XX/XX/XXXX. Left me his only...   \n",
       "2584131  cfbp i would Like to file a complaint on Exper...   \n",
       "2584132  My husband and I are in the middle of an FHA S...   \n",
       "2584133                                                NaN   \n",
       "\n",
       "                                   Company public response  \\\n",
       "0        Company has responded to the consumer and the ...   \n",
       "1                                                      NaN   \n",
       "2                                                      NaN   \n",
       "3                                                      NaN   \n",
       "4        Company has responded to the consumer and the ...   \n",
       "...                                                    ...   \n",
       "2584129                                                NaN   \n",
       "2584130                                                NaN   \n",
       "2584131  Company has responded to the consumer and the ...   \n",
       "2584132  Company has responded to the consumer and the ...   \n",
       "2584133  Company has responded to the consumer and the ...   \n",
       "\n",
       "                                        Company State ZIP code           Tags  \\\n",
       "0        TRANSUNION INTERMEDIATE HOLDINGS, INC.    NY  12919.0            NaN   \n",
       "1                                 EQUIFAX, INC.    WA  98056.0            NaN   \n",
       "2                                 EQUIFAX, INC.    GA  31909.0            NaN   \n",
       "3                                 EQUIFAX, INC.    OH  44133.0            NaN   \n",
       "4                                 LoanCare, LLC    CA  90405.0            NaN   \n",
       "...                                         ...   ...      ...            ...   \n",
       "2584129      Bonneville Billing and Collections    UT    84054  Servicemember   \n",
       "2584130                          CITIBANK, N.A.    OK    74066            NaN   \n",
       "2584131     Experian Information Solutions Inc.    MN    55379            NaN   \n",
       "2584132  TRANSUNION INTERMEDIATE HOLDINGS, INC.    GA    30215            NaN   \n",
       "2584133                   WELLS FARGO & COMPANY    CA    91304            NaN   \n",
       "\n",
       "        Consumer consent provided? Submitted via Date sent to company  \\\n",
       "0             Consent not provided           Web           2022-02-02   \n",
       "1                              NaN           Web           2022-03-14   \n",
       "2                              NaN           Web           2022-03-14   \n",
       "3                            Other           Web           2022-03-14   \n",
       "4             Consent not provided           Web           2022-03-31   \n",
       "...                            ...           ...                  ...   \n",
       "2584129           Consent provided           Web           2017-02-09   \n",
       "2584130           Consent provided           Web           2015-04-29   \n",
       "2584131           Consent provided           Web           2017-03-31   \n",
       "2584132           Consent provided           Web           2017-01-16   \n",
       "2584133                        NaN      Referral           2018-03-08   \n",
       "\n",
       "            Company response to consumer Timely response? Consumer disputed?  \\\n",
       "0        Closed with non-monetary relief              Yes                NaN   \n",
       "1                Closed with explanation              Yes                NaN   \n",
       "2                Closed with explanation              Yes                NaN   \n",
       "3                Closed with explanation              Yes                NaN   \n",
       "4                Closed with explanation              Yes                NaN   \n",
       "...                                  ...              ...                ...   \n",
       "2584129          Closed with explanation              Yes                 No   \n",
       "2584130          Closed with explanation              Yes                 No   \n",
       "2584131  Closed with non-monetary relief              Yes                Yes   \n",
       "2584132          Closed with explanation              Yes                 No   \n",
       "2584133          Closed with explanation              Yes                NaN   \n",
       "\n",
       "         Complaint ID  \n",
       "0             5177559  \n",
       "1             5321616  \n",
       "2             5319887  \n",
       "3             5320509  \n",
       "4             5330683  \n",
       "...               ...  \n",
       "2584129       2334969  \n",
       "2584130       1352738  \n",
       "2584131       2412926  \n",
       "2584132       2292586  \n",
       "2584133       2837068  \n",
       "\n",
       "[2584134 rows x 18 columns]"
      ]
     },
     "execution_count": 21,
     "metadata": {},
     "output_type": "execute_result"
    }
   ],
   "source": [
    "Df"
   ]
  },
  {
   "cell_type": "markdown",
   "id": "4ca3a1c6",
   "metadata": {},
   "source": [
    "### Product column of the dataframe assiggn to a variable"
   ]
  },
  {
   "cell_type": "code",
   "execution_count": 23,
   "id": "a6c42cca",
   "metadata": {},
   "outputs": [],
   "source": [
    "tf_str = tf.Variable(Df['Product'])"
   ]
  },
  {
   "cell_type": "code",
   "execution_count": 24,
   "id": "0e772368",
   "metadata": {},
   "outputs": [
    {
     "data": {
      "text/plain": [
       "<tf.Variable 'Variable:0' shape=(2584134,) dtype=string, numpy=\n",
       "array([b'Credit reporting, credit repair services, or other personal consumer reports',\n",
       "       b'Credit reporting, credit repair services, or other personal consumer reports',\n",
       "       b'Credit reporting, credit repair services, or other personal consumer reports',\n",
       "       ..., b'Credit reporting', b'Credit reporting', b'Mortgage'],\n",
       "      dtype=object)>"
      ]
     },
     "execution_count": 24,
     "metadata": {},
     "output_type": "execute_result"
    }
   ],
   "source": [
    "tf_str"
   ]
  },
  {
   "cell_type": "code",
   "execution_count": 26,
   "id": "822e14d6",
   "metadata": {},
   "outputs": [],
   "source": [
    "tf1_str = tf.Variable(Df['Company'])"
   ]
  },
  {
   "cell_type": "code",
   "execution_count": 27,
   "id": "157afc4c",
   "metadata": {},
   "outputs": [
    {
     "data": {
      "text/plain": [
       "<tf.Variable 'Variable:0' shape=(2584134,) dtype=string, numpy=\n",
       "array([b'TRANSUNION INTERMEDIATE HOLDINGS, INC.', b'EQUIFAX, INC.',\n",
       "       b'EQUIFAX, INC.', ..., b'Experian Information Solutions Inc.',\n",
       "       b'TRANSUNION INTERMEDIATE HOLDINGS, INC.',\n",
       "       b'WELLS FARGO & COMPANY'], dtype=object)>"
      ]
     },
     "execution_count": 27,
     "metadata": {},
     "output_type": "execute_result"
    }
   ],
   "source": [
    "tf1_str"
   ]
  },
  {
   "cell_type": "code",
   "execution_count": 29,
   "id": "c8abf5d4",
   "metadata": {},
   "outputs": [
    {
     "data": {
      "text/plain": [
       "tf.string"
      ]
     },
     "execution_count": 29,
     "metadata": {},
     "output_type": "execute_result"
    }
   ],
   "source": [
    "tf1_str.dtype"
   ]
  },
  {
   "cell_type": "code",
   "execution_count": 30,
   "id": "e4366aac",
   "metadata": {},
   "outputs": [
    {
     "data": {
      "text/plain": [
       "array([b'TRANSUNION INTERMEDIATE HOLDINGS, INC.', b'EQUIFAX, INC.',\n",
       "       b'EQUIFAX, INC.', ..., b'Experian Information Solutions Inc.',\n",
       "       b'TRANSUNION INTERMEDIATE HOLDINGS, INC.',\n",
       "       b'WELLS FARGO & COMPANY'], dtype=object)"
      ]
     },
     "execution_count": 30,
     "metadata": {},
     "output_type": "execute_result"
    }
   ],
   "source": [
    "tf1_str.numpy()"
   ]
  },
  {
   "cell_type": "code",
   "execution_count": null,
   "id": "af2a4411",
   "metadata": {},
   "outputs": [],
   "source": []
  }
 ],
 "metadata": {
  "kernelspec": {
   "display_name": "Python 3",
   "language": "python",
   "name": "python3"
  },
  "language_info": {
   "codemirror_mode": {
    "name": "ipython",
    "version": 3
   },
   "file_extension": ".py",
   "mimetype": "text/x-python",
   "name": "python",
   "nbconvert_exporter": "python",
   "pygments_lexer": "ipython3",
   "version": "3.8.8"
  }
 },
 "nbformat": 4,
 "nbformat_minor": 5
}
