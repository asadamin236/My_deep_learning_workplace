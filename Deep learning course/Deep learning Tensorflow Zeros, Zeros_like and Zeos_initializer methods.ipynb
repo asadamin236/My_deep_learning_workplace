{
 "cells": [
  {
   "cell_type": "markdown",
   "id": "aa3eeecd",
   "metadata": {},
   "source": [
    "## tensorflow Zeros, Zeros_like and Zeros_initializer methods"
   ]
  },
  {
   "cell_type": "markdown",
   "id": "eec7daed",
   "metadata": {},
   "source": [
    "## Import library tensorflow"
   ]
  },
  {
   "cell_type": "code",
   "execution_count": 1,
   "id": "b033a621",
   "metadata": {},
   "outputs": [],
   "source": [
    "import tensorflow as tf"
   ]
  },
  {
   "cell_type": "markdown",
   "id": "d84e7ef1",
   "metadata": {},
   "source": [
    "Creates a tensor with all elements set to zero."
   ]
  },
  {
   "cell_type": "code",
   "execution_count": 2,
   "id": "fcd6211b",
   "metadata": {},
   "outputs": [
    {
     "data": {
      "text/plain": [
       "<tf.Tensor: shape=(2, 2), dtype=float32, numpy=\n",
       "array([[0., 0.],\n",
       "       [0., 0.]], dtype=float32)>"
      ]
     },
     "execution_count": 2,
     "metadata": {},
     "output_type": "execute_result"
    }
   ],
   "source": [
    "zeros_set=tf.zeros((2, 2), dtype=tf.float32)\n",
    "zeros_set"
   ]
  },
  {
   "cell_type": "code",
   "execution_count": 3,
   "id": "1fda2d2c",
   "metadata": {},
   "outputs": [
    {
     "data": {
      "text/plain": [
       "TensorShape([2, 2])"
      ]
     },
     "execution_count": 3,
     "metadata": {},
     "output_type": "execute_result"
    }
   ],
   "source": [
    "zeros_set.shape"
   ]
  },
  {
   "cell_type": "code",
   "execution_count": 4,
   "id": "c60fd7c1",
   "metadata": {},
   "outputs": [
    {
     "data": {
      "text/plain": [
       "tf.float32"
      ]
     },
     "execution_count": 4,
     "metadata": {},
     "output_type": "execute_result"
    }
   ],
   "source": [
    "zeros_set.dtype"
   ]
  },
  {
   "cell_type": "code",
   "execution_count": 5,
   "id": "ef23a822",
   "metadata": {},
   "outputs": [
    {
     "data": {
      "text/plain": [
       "array([[0., 0.],\n",
       "       [0., 0.]], dtype=float32)"
      ]
     },
     "execution_count": 5,
     "metadata": {},
     "output_type": "execute_result"
    }
   ],
   "source": [
    "zeros_set.numpy()"
   ]
  },
  {
   "cell_type": "code",
   "execution_count": 7,
   "id": "ae6c6b49",
   "metadata": {},
   "outputs": [
    {
     "data": {
      "text/plain": [
       "[[0.0, 0.0], [0.0, 0.0]]"
      ]
     },
     "execution_count": 7,
     "metadata": {},
     "output_type": "execute_result"
    }
   ],
   "source": [
    "zeros_set.numpy().tolist()"
   ]
  },
  {
   "cell_type": "markdown",
   "id": "4c29d377",
   "metadata": {},
   "source": [
    "## Zeros_like"
   ]
  },
  {
   "cell_type": "markdown",
   "id": "e9da89f1",
   "metadata": {},
   "source": [
    "Creates a tensor with all elements set to zero."
   ]
  },
  {
   "cell_type": "code",
   "execution_count": 8,
   "id": "bbb17b0d",
   "metadata": {},
   "outputs": [
    {
     "data": {
      "text/plain": [
       "<tf.Tensor: shape=(3, 3), dtype=int32, numpy=\n",
       "array([[2, 3, 4],\n",
       "       [4, 5, 6],\n",
       "       [5, 6, 7]])>"
      ]
     },
     "execution_count": 8,
     "metadata": {},
     "output_type": "execute_result"
    }
   ],
   "source": [
    "tf_cons=tf.constant([[2, 3, 4],[4, 5, 6],[5, 6, 7]])\n",
    "tf_cons"
   ]
  },
  {
   "cell_type": "code",
   "execution_count": 10,
   "id": "1f9d1d8a",
   "metadata": {},
   "outputs": [
    {
     "data": {
      "text/plain": [
       "<tf.Tensor: shape=(3, 3), dtype=int32, numpy=\n",
       "array([[0, 0, 0],\n",
       "       [0, 0, 0],\n",
       "       [0, 0, 0]])>"
      ]
     },
     "execution_count": 10,
     "metadata": {},
     "output_type": "execute_result"
    }
   ],
   "source": [
    "tf_zeros_like_from_tf_cons=tf.zeros_like(tf_cons)\n",
    "tf_zeros_like_from_tf_cons"
   ]
  },
  {
   "cell_type": "code",
   "execution_count": 11,
   "id": "38c458c5",
   "metadata": {},
   "outputs": [
    {
     "data": {
      "text/plain": [
       "<tf.Variable 'Variable:0' shape=(2, 3) dtype=int32, numpy=\n",
       "array([[1, 2, 3],\n",
       "       [5, 6, 7]])>"
      ]
     },
     "execution_count": 11,
     "metadata": {},
     "output_type": "execute_result"
    }
   ],
   "source": [
    "tf_var = tf.Variable([[1, 2, 3], [5, 6, 7]])\n",
    "tf_var"
   ]
  },
  {
   "cell_type": "code",
   "execution_count": 12,
   "id": "8b23de1f",
   "metadata": {},
   "outputs": [
    {
     "data": {
      "text/plain": [
       "<tf.Tensor: shape=(2, 3), dtype=int32, numpy=\n",
       "array([[0, 0, 0],\n",
       "       [0, 0, 0]])>"
      ]
     },
     "execution_count": 12,
     "metadata": {},
     "output_type": "execute_result"
    }
   ],
   "source": [
    "Zeros_like_for_tf_var=tf.zeros_like(tf_var)\n",
    "Zeros_like_for_tf_var"
   ]
  },
  {
   "cell_type": "code",
   "execution_count": 13,
   "id": "2b82409d",
   "metadata": {},
   "outputs": [
    {
     "data": {
      "text/plain": [
       "TensorShape([2, 3])"
      ]
     },
     "execution_count": 13,
     "metadata": {},
     "output_type": "execute_result"
    }
   ],
   "source": [
    "Zeros_like_for_tf_var.shape"
   ]
  },
  {
   "cell_type": "code",
   "execution_count": 14,
   "id": "830b4de9",
   "metadata": {},
   "outputs": [
    {
     "data": {
      "text/plain": [
       "tf.int32"
      ]
     },
     "execution_count": 14,
     "metadata": {},
     "output_type": "execute_result"
    }
   ],
   "source": [
    "Zeros_like_for_tf_var.dtype"
   ]
  },
  {
   "cell_type": "code",
   "execution_count": 15,
   "id": "994c9db3",
   "metadata": {},
   "outputs": [
    {
     "data": {
      "text/plain": [
       "array([[0, 0, 0],\n",
       "       [0, 0, 0]])"
      ]
     },
     "execution_count": 15,
     "metadata": {},
     "output_type": "execute_result"
    }
   ],
   "source": [
    "Zeros_like_for_tf_var.numpy()"
   ]
  },
  {
   "cell_type": "code",
   "execution_count": 16,
   "id": "0dca057f",
   "metadata": {},
   "outputs": [
    {
     "data": {
      "text/plain": [
       "[[0, 0, 0], [0, 0, 0]]"
      ]
     },
     "execution_count": 16,
     "metadata": {},
     "output_type": "execute_result"
    }
   ],
   "source": [
    "Zeros_like_for_tf_var.numpy().tolist()"
   ]
  },
  {
   "cell_type": "markdown",
   "id": "20887381",
   "metadata": {},
   "source": [
    "##### Initializer that generates tensors initialized to 0."
   ]
  },
  {
   "cell_type": "markdown",
   "id": "a8005161",
   "metadata": {},
   "source": [
    "Initializers allow you to pre-specify an initialization strategy, encoded in the Initializer object, without knowing the shape and dtype of the variable being initialized."
   ]
  },
  {
   "cell_type": "code",
   "execution_count": 17,
   "id": "a56753ac",
   "metadata": {},
   "outputs": [],
   "source": [
    "def zeros_variable(shape, dtype, initializer):\n",
    "    return tf.Variable(initializer(shape=shape, dtype=dtype))"
   ]
  },
  {
   "cell_type": "code",
   "execution_count": 25,
   "id": "456545ad",
   "metadata": {},
   "outputs": [
    {
     "data": {
      "text/plain": [
       "<tf.Variable 'Variable:0' shape=(3, 4) dtype=float32, numpy=\n",
       "array([[0., 0., 0., 0.],\n",
       "       [0., 0., 0., 0.],\n",
       "       [0., 0., 0., 0.]], dtype=float32)>"
      ]
     },
     "execution_count": 25,
     "metadata": {},
     "output_type": "execute_result"
    }
   ],
   "source": [
    "zi_1=zeros_variable((3, 4), tf.float32, tf.zeros_initializer())\n",
    "zi_1"
   ]
  },
  {
   "cell_type": "code",
   "execution_count": 26,
   "id": "748f4ba4",
   "metadata": {},
   "outputs": [
    {
     "data": {
      "text/plain": [
       "<tf.Variable 'Variable:0' shape=(3, 3) dtype=int32, numpy=\n",
       "array([[0, 0, 0],\n",
       "       [0, 0, 0],\n",
       "       [0, 0, 0]])>"
      ]
     },
     "execution_count": 26,
     "metadata": {},
     "output_type": "execute_result"
    }
   ],
   "source": [
    "zi_2=zeros_variable((3, 3), tf.int32, tf.zeros_initializer())\n",
    "zi_2"
   ]
  },
  {
   "cell_type": "code",
   "execution_count": 27,
   "id": "f274a02d",
   "metadata": {},
   "outputs": [
    {
     "data": {
      "text/plain": [
       "TensorShape([3, 4])"
      ]
     },
     "execution_count": 27,
     "metadata": {},
     "output_type": "execute_result"
    }
   ],
   "source": [
    "zi_1.shape"
   ]
  },
  {
   "cell_type": "code",
   "execution_count": 28,
   "id": "6c8b494c",
   "metadata": {},
   "outputs": [
    {
     "data": {
      "text/plain": [
       "TensorShape([3, 3])"
      ]
     },
     "execution_count": 28,
     "metadata": {},
     "output_type": "execute_result"
    }
   ],
   "source": [
    "zi_2.shape"
   ]
  },
  {
   "cell_type": "code",
   "execution_count": 29,
   "id": "109a7d22",
   "metadata": {},
   "outputs": [
    {
     "data": {
      "text/plain": [
       "array([[0, 0, 0],\n",
       "       [0, 0, 0],\n",
       "       [0, 0, 0]])"
      ]
     },
     "execution_count": 29,
     "metadata": {},
     "output_type": "execute_result"
    }
   ],
   "source": [
    "zi_2.numpy()"
   ]
  },
  {
   "cell_type": "markdown",
   "id": "2912c6af",
   "metadata": {},
   "source": [
    "## Create boolean initializer"
   ]
  },
  {
   "cell_type": "code",
   "execution_count": 31,
   "id": "9877ccfd",
   "metadata": {},
   "outputs": [
    {
     "data": {
      "text/plain": [
       "<tf.Variable 'Variable:0' shape=(2, 2) dtype=bool, numpy=\n",
       "array([[False, False],\n",
       "       [False, False]])>"
      ]
     },
     "execution_count": 31,
     "metadata": {},
     "output_type": "execute_result"
    }
   ],
   "source": [
    "zeros_bi=zeros_variable((2, 2), tf.bool, tf.zeros_initializer())\n",
    "zeros_bi"
   ]
  },
  {
   "cell_type": "code",
   "execution_count": 32,
   "id": "ceb97a65",
   "metadata": {},
   "outputs": [
    {
     "data": {
      "text/plain": [
       "TensorShape([2, 2])"
      ]
     },
     "execution_count": 32,
     "metadata": {},
     "output_type": "execute_result"
    }
   ],
   "source": [
    "zeros_bi.shape"
   ]
  },
  {
   "cell_type": "code",
   "execution_count": 33,
   "id": "4502892c",
   "metadata": {},
   "outputs": [
    {
     "data": {
      "text/plain": [
       "tf.bool"
      ]
     },
     "execution_count": 33,
     "metadata": {},
     "output_type": "execute_result"
    }
   ],
   "source": [
    "zeros_bi.dtype"
   ]
  },
  {
   "cell_type": "code",
   "execution_count": null,
   "id": "3e12e0ec",
   "metadata": {},
   "outputs": [],
   "source": []
  },
  {
   "cell_type": "code",
   "execution_count": null,
   "id": "716d2b0a",
   "metadata": {},
   "outputs": [],
   "source": []
  },
  {
   "cell_type": "code",
   "execution_count": null,
   "id": "209d0df9",
   "metadata": {},
   "outputs": [],
   "source": []
  },
  {
   "cell_type": "code",
   "execution_count": null,
   "id": "d9ccc4fe",
   "metadata": {},
   "outputs": [],
   "source": []
  }
 ],
 "metadata": {
  "kernelspec": {
   "display_name": "Python 3",
   "language": "python",
   "name": "python3"
  },
  "language_info": {
   "codemirror_mode": {
    "name": "ipython",
    "version": 3
   },
   "file_extension": ".py",
   "mimetype": "text/x-python",
   "name": "python",
   "nbconvert_exporter": "python",
   "pygments_lexer": "ipython3",
   "version": "3.8.8"
  }
 },
 "nbformat": 4,
 "nbformat_minor": 5
}
