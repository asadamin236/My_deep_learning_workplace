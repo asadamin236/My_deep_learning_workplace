{
 "cells": [
  {
   "cell_type": "markdown",
   "id": "7f2994aa",
   "metadata": {},
   "source": [
    "## How to create ones element using tensorflow"
   ]
  },
  {
   "cell_type": "markdown",
   "id": "482838b8",
   "metadata": {},
   "source": [
    "### Import tensorflow library"
   ]
  },
  {
   "cell_type": "code",
   "execution_count": 1,
   "id": "19e141ec",
   "metadata": {},
   "outputs": [],
   "source": [
    "import tensorflow as tf"
   ]
  },
  {
   "cell_type": "code",
   "execution_count": 3,
   "id": "0cfccba4",
   "metadata": {},
   "outputs": [
    {
     "data": {
      "text/plain": [
       "<tf.Tensor: shape=(3, 3), dtype=float32, numpy=\n",
       "array([[1., 1., 1.],\n",
       "       [1., 1., 1.],\n",
       "       [1., 1., 1.]], dtype=float32)>"
      ]
     },
     "execution_count": 3,
     "metadata": {},
     "output_type": "execute_result"
    }
   ],
   "source": [
    "ones_3D=tf.ones((3, 3), tf.float32)\n",
    "ones_3D"
   ]
  },
  {
   "cell_type": "code",
   "execution_count": 4,
   "id": "25dd5027",
   "metadata": {},
   "outputs": [
    {
     "data": {
      "text/plain": [
       "<tf.Tensor: shape=(3, 3, 4), dtype=float32, numpy=\n",
       "array([[[1., 1., 1., 1.],\n",
       "        [1., 1., 1., 1.],\n",
       "        [1., 1., 1., 1.]],\n",
       "\n",
       "       [[1., 1., 1., 1.],\n",
       "        [1., 1., 1., 1.],\n",
       "        [1., 1., 1., 1.]],\n",
       "\n",
       "       [[1., 1., 1., 1.],\n",
       "        [1., 1., 1., 1.],\n",
       "        [1., 1., 1., 1.]]], dtype=float32)>"
      ]
     },
     "execution_count": 4,
     "metadata": {},
     "output_type": "execute_result"
    }
   ],
   "source": [
    "ones_tf=tf.ones((3, 3, 4), tf.float32)\n",
    "ones_tf"
   ]
  },
  {
   "cell_type": "markdown",
   "id": "916664c9",
   "metadata": {},
   "source": [
    "## tf.ones_like()"
   ]
  },
  {
   "cell_type": "markdown",
   "id": "f1085186",
   "metadata": {},
   "source": [
    "Create a tensor of all ones that has the same shape as an input "
   ]
  },
  {
   "cell_type": "code",
   "execution_count": 6,
   "id": "871c3456",
   "metadata": {},
   "outputs": [
    {
     "data": {
      "text/plain": [
       "<tf.Tensor: shape=(2, 3), dtype=int32, numpy=\n",
       "array([[1, 2, 3],\n",
       "       [5, 6, 7]])>"
      ]
     },
     "execution_count": 6,
     "metadata": {},
     "output_type": "execute_result"
    }
   ],
   "source": [
    "cons_2D = tf.constant([[1, 2, 3], [5, 6, 7]])\n",
    "cons_2D"
   ]
  },
  {
   "cell_type": "code",
   "execution_count": 9,
   "id": "17750614",
   "metadata": {},
   "outputs": [
    {
     "data": {
      "text/plain": [
       "<tf.Tensor: shape=(2, 3), dtype=float32, numpy=\n",
       "array([[1., 1., 1.],\n",
       "       [1., 1., 1.]], dtype=float32)>"
      ]
     },
     "execution_count": 9,
     "metadata": {},
     "output_type": "execute_result"
    }
   ],
   "source": [
    "ones_2D_from_cons=tf.ones_like(cons_2D, tf.float32)\n",
    "ones_2D_from_cons"
   ]
  },
  {
   "cell_type": "code",
   "execution_count": 10,
   "id": "309816d5",
   "metadata": {},
   "outputs": [
    {
     "data": {
      "text/plain": [
       "<tf.Tensor: shape=(2, 3), dtype=int32, numpy=\n",
       "array([[1, 1, 1],\n",
       "       [1, 1, 1]])>"
      ]
     },
     "execution_count": 10,
     "metadata": {},
     "output_type": "execute_result"
    }
   ],
   "source": [
    "ones1_2D_from_cons=tf.ones_like(cons_2D, tf.int32)\n",
    "ones1_2D_from_cons"
   ]
  },
  {
   "cell_type": "code",
   "execution_count": 13,
   "id": "ac14e4b4",
   "metadata": {},
   "outputs": [
    {
     "data": {
      "text/plain": [
       "<tf.Tensor: shape=(2, 3), dtype=int64, numpy=\n",
       "array([[1, 1, 1],\n",
       "       [1, 1, 1]], dtype=int64)>"
      ]
     },
     "execution_count": 13,
     "metadata": {},
     "output_type": "execute_result"
    }
   ],
   "source": [
    "ones2_2D_from_cons=tf.ones_like(cons_2D, tf.int64)\n",
    "ones2_2D_from_cons"
   ]
  },
  {
   "cell_type": "markdown",
   "id": "036e6e5a",
   "metadata": {},
   "source": [
    "## tf.ones_initializer"
   ]
  },
  {
   "cell_type": "markdown",
   "id": "995ae3c1",
   "metadata": {},
   "source": [
    "Initializer that generates tensors initialized to 1.\n",
    "\n",
    "Initializers allow you to pre-specify an initialization strategy, \n",
    "encoded in the Initializer object, without knowing the shape and dtype of the variable being initialized."
   ]
  },
  {
   "cell_type": "code",
   "execution_count": 14,
   "id": "464afeff",
   "metadata": {},
   "outputs": [],
   "source": [
    "def ones_variable(shape, dtype, initializer):\n",
    "    return tf.Variable(initializer(shape=shape, dtype=dtype))"
   ]
  },
  {
   "cell_type": "code",
   "execution_count": 15,
   "id": "249a78f5",
   "metadata": {},
   "outputs": [
    {
     "data": {
      "text/plain": [
       "<tf.Variable 'Variable:0' shape=(2, 2) dtype=int32, numpy=\n",
       "array([[1, 1],\n",
       "       [1, 1]])>"
      ]
     },
     "execution_count": 15,
     "metadata": {},
     "output_type": "execute_result"
    }
   ],
   "source": [
    "ones_variable((2, 2), tf.int32, tf.ones_initializer())"
   ]
  },
  {
   "cell_type": "code",
   "execution_count": 16,
   "id": "4cb49349",
   "metadata": {},
   "outputs": [
    {
     "data": {
      "text/plain": [
       "<tf.Variable 'Variable:0' shape=(2, 2) dtype=float32, numpy=\n",
       "array([[1., 1.],\n",
       "       [1., 1.]], dtype=float32)>"
      ]
     },
     "execution_count": 16,
     "metadata": {},
     "output_type": "execute_result"
    }
   ],
   "source": [
    "ones_variable((2, 2), tf.float32, tf.ones_initializer())"
   ]
  },
  {
   "cell_type": "code",
   "execution_count": null,
   "id": "fa2ebae8",
   "metadata": {},
   "outputs": [],
   "source": []
  },
  {
   "cell_type": "code",
   "execution_count": null,
   "id": "be1e00a2",
   "metadata": {},
   "outputs": [],
   "source": []
  },
  {
   "cell_type": "code",
   "execution_count": null,
   "id": "bdcc477c",
   "metadata": {},
   "outputs": [],
   "source": []
  },
  {
   "cell_type": "code",
   "execution_count": null,
   "id": "ad55d490",
   "metadata": {},
   "outputs": [],
   "source": []
  }
 ],
 "metadata": {
  "kernelspec": {
   "display_name": "Python 3",
   "language": "python",
   "name": "python3"
  },
  "language_info": {
   "codemirror_mode": {
    "name": "ipython",
    "version": 3
   },
   "file_extension": ".py",
   "mimetype": "text/x-python",
   "name": "python",
   "nbconvert_exporter": "python",
   "pygments_lexer": "ipython3",
   "version": "3.8.8"
  }
 },
 "nbformat": 4,
 "nbformat_minor": 5
}
