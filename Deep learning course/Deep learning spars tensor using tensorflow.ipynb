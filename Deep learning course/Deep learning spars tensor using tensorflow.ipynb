{
 "cells": [
  {
   "cell_type": "markdown",
   "id": "7b4e76fa",
   "metadata": {},
   "source": [
    "## Spars tensor"
   ]
  },
  {
   "cell_type": "markdown",
   "id": "3620bbab",
   "metadata": {},
   "source": [
    "Tensor that contain mostly zero values is called \"Spars Tensor\"."
   ]
  },
  {
   "cell_type": "code",
   "execution_count": 1,
   "id": "74710d03",
   "metadata": {},
   "outputs": [],
   "source": [
    "import tensorflow as tf"
   ]
  },
  {
   "cell_type": "markdown",
   "id": "bfc3c3d3",
   "metadata": {},
   "source": [
    "## Version of tensorflow"
   ]
  },
  {
   "cell_type": "code",
   "execution_count": 2,
   "id": "e21c348c",
   "metadata": {},
   "outputs": [
    {
     "data": {
      "text/plain": [
       "'2.6.0'"
      ]
     },
     "execution_count": 2,
     "metadata": {},
     "output_type": "execute_result"
    }
   ],
   "source": [
    "tf.__version__"
   ]
  },
  {
   "cell_type": "markdown",
   "id": "14c3be47",
   "metadata": {},
   "source": [
    "## Syntax of spars tensor\n",
    "tf.spars.SparsTensor(indices, values, dense_shape)"
   ]
  },
  {
   "cell_type": "markdown",
   "id": "3a3117aa",
   "metadata": {},
   "source": [
    "## Create tensorflow Spars Tensor"
   ]
  },
  {
   "cell_type": "code",
   "execution_count": 6,
   "id": "65223aff",
   "metadata": {},
   "outputs": [
    {
     "name": "stdout",
     "output_type": "stream",
     "text": [
      "SparseTensor(indices=tf.Tensor(\n",
      "[[0 2]\n",
      " [3 4]], shape=(2, 2), dtype=int64), values=tf.Tensor([10 20], shape=(2,), dtype=int32), dense_shape=tf.Tensor([ 2 10], shape=(2,), dtype=int64))\n"
     ]
    }
   ],
   "source": [
    "st1=tf.SparseTensor(indices=[[0, 2], [3, 4]], values=[10, 20], dense_shape=[2, 10])\n",
    "print(st1)"
   ]
  },
  {
   "cell_type": "markdown",
   "id": "5f6a68a5",
   "metadata": {},
   "source": [
    "## Create Spars tensor from Dense"
   ]
  },
  {
   "cell_type": "code",
   "execution_count": 7,
   "id": "cc414a23",
   "metadata": {},
   "outputs": [],
   "source": [
    "import numpy as np"
   ]
  },
  {
   "cell_type": "code",
   "execution_count": 8,
   "id": "9d2fb23b",
   "metadata": {},
   "outputs": [
    {
     "name": "stdout",
     "output_type": "stream",
     "text": [
      "[[1 0 0 0]\n",
      " [0 0 0 0]\n",
      " [0 0 2 0]\n",
      " [0 0 0 4]]\n"
     ]
    }
   ],
   "source": [
    "np_array = np.array([[1, 0, 0, 0],\n",
    "                     [0, 0, 0, 0],\n",
    "                     [0, 0, 2, 0],\n",
    "                     [0, 0, 0, 4]])\n",
    "print(np_array)"
   ]
  },
  {
   "cell_type": "code",
   "execution_count": 10,
   "id": "0da5ee58",
   "metadata": {},
   "outputs": [
    {
     "data": {
      "text/plain": [
       "<tensorflow.python.framework.sparse_tensor.SparseTensor at 0x21f3baf4d90>"
      ]
     },
     "execution_count": 10,
     "metadata": {},
     "output_type": "execute_result"
    }
   ],
   "source": [
    "tf_2=tf.sparse.from_dense(np_array)\n",
    "tf_2"
   ]
  },
  {
   "cell_type": "code",
   "execution_count": 11,
   "id": "4f2cc280",
   "metadata": {},
   "outputs": [
    {
     "name": "stdout",
     "output_type": "stream",
     "text": [
      "SparseTensor(indices=tf.Tensor(\n",
      "[[0 0]\n",
      " [2 2]\n",
      " [3 3]], shape=(3, 2), dtype=int64), values=tf.Tensor([1 2 4], shape=(3,), dtype=int32), dense_shape=tf.Tensor([4 4], shape=(2,), dtype=int64))\n"
     ]
    }
   ],
   "source": [
    "print(tf_2)"
   ]
  },
  {
   "cell_type": "markdown",
   "id": "93174ec6",
   "metadata": {},
   "source": [
    "## Extract the values, indices and shape of Spars Tensor"
   ]
  },
  {
   "cell_type": "code",
   "execution_count": 12,
   "id": "b8e3f348",
   "metadata": {},
   "outputs": [
    {
     "data": {
      "text/plain": [
       "[1, 2, 4]"
      ]
     },
     "execution_count": 12,
     "metadata": {},
     "output_type": "execute_result"
    }
   ],
   "source": [
    "tf_2.values.numpy().tolist()"
   ]
  },
  {
   "cell_type": "code",
   "execution_count": 15,
   "id": "6476f013",
   "metadata": {},
   "outputs": [
    {
     "data": {
      "text/plain": [
       "<tf.Tensor: shape=(3, 2), dtype=int64, numpy=\n",
       "array([[0, 0],\n",
       "       [2, 2],\n",
       "       [3, 3]], dtype=int64)>"
      ]
     },
     "execution_count": 15,
     "metadata": {},
     "output_type": "execute_result"
    }
   ],
   "source": [
    "tf_2.indices"
   ]
  },
  {
   "cell_type": "code",
   "execution_count": 16,
   "id": "a6438a71",
   "metadata": {},
   "outputs": [
    {
     "data": {
      "text/plain": [
       "[[0, 0], [2, 2], [3, 3]]"
      ]
     },
     "execution_count": 16,
     "metadata": {},
     "output_type": "execute_result"
    }
   ],
   "source": [
    "tf_2.indices.numpy().tolist()"
   ]
  },
  {
   "cell_type": "code",
   "execution_count": 17,
   "id": "d3695529",
   "metadata": {},
   "outputs": [
    {
     "data": {
      "text/plain": [
       "TensorShape([4, 4])"
      ]
     },
     "execution_count": 17,
     "metadata": {},
     "output_type": "execute_result"
    }
   ],
   "source": [
    "tf_2.shape"
   ]
  },
  {
   "cell_type": "code",
   "execution_count": 18,
   "id": "bf895b0a",
   "metadata": {},
   "outputs": [
    {
     "data": {
      "text/plain": [
       "[4, 4]"
      ]
     },
     "execution_count": 18,
     "metadata": {},
     "output_type": "execute_result"
    }
   ],
   "source": [
    "tf_2.dense_shape.numpy().tolist()"
   ]
  },
  {
   "cell_type": "markdown",
   "id": "bf966579",
   "metadata": {},
   "source": [
    "## Spars Tensor to Dense\n",
    "\n",
    "if the most of the element are non zero then the Tensor is considered Dense"
   ]
  },
  {
   "cell_type": "code",
   "execution_count": 19,
   "id": "82218777",
   "metadata": {},
   "outputs": [
    {
     "data": {
      "text/plain": [
       "<tf.Tensor: shape=(4, 4), dtype=int32, numpy=\n",
       "array([[1, 0, 0, 0],\n",
       "       [0, 0, 0, 0],\n",
       "       [0, 0, 2, 0],\n",
       "       [0, 0, 0, 4]])>"
      ]
     },
     "execution_count": 19,
     "metadata": {},
     "output_type": "execute_result"
    }
   ],
   "source": [
    "dt_fst=tf.sparse.to_dense(tf_2)\n",
    "dt_fst"
   ]
  },
  {
   "cell_type": "markdown",
   "id": "f9e2ee0d",
   "metadata": {},
   "source": [
    "## Convert Dense Tensor into numpy array"
   ]
  },
  {
   "cell_type": "code",
   "execution_count": 20,
   "id": "62dc7267",
   "metadata": {},
   "outputs": [
    {
     "data": {
      "text/plain": [
       "array([[1, 0, 0, 0],\n",
       "       [0, 0, 0, 0],\n",
       "       [0, 0, 2, 0],\n",
       "       [0, 0, 0, 4]])"
      ]
     },
     "execution_count": 20,
     "metadata": {},
     "output_type": "execute_result"
    }
   ],
   "source": [
    "dt_fst.numpy()"
   ]
  },
  {
   "cell_type": "markdown",
   "id": "c517431a",
   "metadata": {},
   "source": [
    "## Mathematical operation on Spars Tensor"
   ]
  },
  {
   "cell_type": "code",
   "execution_count": 21,
   "id": "97ae148b",
   "metadata": {},
   "outputs": [
    {
     "data": {
      "text/plain": [
       "<tensorflow.python.framework.sparse_tensor.SparseTensor at 0x21f68f94310>"
      ]
     },
     "execution_count": 21,
     "metadata": {},
     "output_type": "execute_result"
    }
   ],
   "source": [
    "st_add=tf.sparse.add(tf_2, tf_2)\n",
    "st_add"
   ]
  },
  {
   "cell_type": "code",
   "execution_count": 22,
   "id": "850bff0b",
   "metadata": {},
   "outputs": [
    {
     "name": "stdout",
     "output_type": "stream",
     "text": [
      "SparseTensor(indices=tf.Tensor(\n",
      "[[0 0]\n",
      " [2 2]\n",
      " [3 3]], shape=(3, 2), dtype=int64), values=tf.Tensor([2 4 8], shape=(3,), dtype=int32), dense_shape=tf.Tensor([4 4], shape=(2,), dtype=int64))\n"
     ]
    }
   ],
   "source": [
    "print(st_add)"
   ]
  },
  {
   "cell_type": "code",
   "execution_count": 24,
   "id": "3fe39adc",
   "metadata": {},
   "outputs": [
    {
     "data": {
      "text/plain": [
       "array([[2, 0, 0, 0],\n",
       "       [0, 0, 0, 0],\n",
       "       [0, 0, 4, 0],\n",
       "       [0, 0, 0, 8]])"
      ]
     },
     "execution_count": 24,
     "metadata": {},
     "output_type": "execute_result"
    }
   ],
   "source": [
    "tf.sparse.to_dense(st_add).numpy()"
   ]
  },
  {
   "cell_type": "code",
   "execution_count": null,
   "id": "c4b3ab82",
   "metadata": {},
   "outputs": [],
   "source": []
  }
 ],
 "metadata": {
  "kernelspec": {
   "display_name": "Python 3",
   "language": "python",
   "name": "python3"
  },
  "language_info": {
   "codemirror_mode": {
    "name": "ipython",
    "version": 3
   },
   "file_extension": ".py",
   "mimetype": "text/x-python",
   "name": "python",
   "nbconvert_exporter": "python",
   "pygments_lexer": "ipython3",
   "version": "3.8.8"
  }
 },
 "nbformat": 4,
 "nbformat_minor": 5
}
