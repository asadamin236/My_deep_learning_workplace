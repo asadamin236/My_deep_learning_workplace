{
 "cells": [
  {
   "cell_type": "markdown",
   "id": "31ac2fbf",
   "metadata": {},
   "source": [
    "## Mathematical operations using deep learning tesnorflow."
   ]
  },
  {
   "cell_type": "markdown",
   "id": "f6b9a99f",
   "metadata": {},
   "source": [
    "### Add function."
   ]
  },
  {
   "cell_type": "markdown",
   "id": "8560d4b6",
   "metadata": {},
   "source": [
    "tf.add(): Returns x + y element-wise."
   ]
  },
  {
   "cell_type": "markdown",
   "id": "00ffb985",
   "metadata": {},
   "source": [
    "## Import libraries"
   ]
  },
  {
   "cell_type": "code",
   "execution_count": 1,
   "id": "b082286c",
   "metadata": {},
   "outputs": [],
   "source": [
    "import numpy as np\n",
    "import tensorflow as tf"
   ]
  },
  {
   "cell_type": "markdown",
   "id": "1be066a2",
   "metadata": {},
   "source": [
    "## Simple addition"
   ]
  },
  {
   "cell_type": "code",
   "execution_count": 2,
   "id": "c0b2add2",
   "metadata": {},
   "outputs": [
    {
     "name": "stdout",
     "output_type": "stream",
     "text": [
      "50\n"
     ]
    }
   ],
   "source": [
    "a = 23\n",
    "b = 27\n",
    "c = a + b\n",
    "print(c)"
   ]
  },
  {
   "cell_type": "code",
   "execution_count": 3,
   "id": "120058de",
   "metadata": {},
   "outputs": [
    {
     "data": {
      "text/plain": [
       "<tf.Tensor: shape=(), dtype=int32, numpy=50>"
      ]
     },
     "execution_count": 3,
     "metadata": {},
     "output_type": "execute_result"
    }
   ],
   "source": [
    "# Using tensorflow tf.add()\n",
    "tf.add(a, b)"
   ]
  },
  {
   "cell_type": "markdown",
   "id": "17513990",
   "metadata": {},
   "source": [
    "## Create two lists and its addition"
   ]
  },
  {
   "cell_type": "code",
   "execution_count": 4,
   "id": "bcf62556",
   "metadata": {},
   "outputs": [
    {
     "data": {
      "text/plain": [
       "<tf.Tensor: shape=(4,), dtype=int32, numpy=array([ 6,  8, 11, 13])>"
      ]
     },
     "execution_count": 4,
     "metadata": {},
     "output_type": "execute_result"
    }
   ],
   "source": [
    "list1=[2, 3, 4, 5]\n",
    "list2=[4, 5, 7, 8]\n",
    "tf.add(list1, list2)"
   ]
  },
  {
   "cell_type": "markdown",
   "id": "696b0c84",
   "metadata": {},
   "source": [
    "## Create two tuples and find its addition"
   ]
  },
  {
   "cell_type": "code",
   "execution_count": 5,
   "id": "a10afad8",
   "metadata": {},
   "outputs": [
    {
     "data": {
      "text/plain": [
       "<tf.Tensor: shape=(4,), dtype=int32, numpy=array([ 5,  7,  9, 11])>"
      ]
     },
     "execution_count": 5,
     "metadata": {},
     "output_type": "execute_result"
    }
   ],
   "source": [
    "tuple1=(2, 3, 4, 5)\n",
    "tuple2=(3, 4, 5, 6)\n",
    "tf.add(tuple1, tuple2)"
   ]
  },
  {
   "cell_type": "markdown",
   "id": "6bbc7fdb",
   "metadata": {},
   "source": [
    "## Addition of tuple and list using tensorflow add function"
   ]
  },
  {
   "cell_type": "code",
   "execution_count": 6,
   "id": "7d9415db",
   "metadata": {},
   "outputs": [
    {
     "data": {
      "text/plain": [
       "<tf.Tensor: shape=(4,), dtype=int32, numpy=array([ 4,  6,  8, 10])>"
      ]
     },
     "execution_count": 6,
     "metadata": {},
     "output_type": "execute_result"
    }
   ],
   "source": [
    "tf.add(list1, tuple1)"
   ]
  },
  {
   "cell_type": "markdown",
   "id": "1109eb6e",
   "metadata": {},
   "source": [
    "## Addition of two numpy array using tensorflow add function"
   ]
  },
  {
   "cell_type": "code",
   "execution_count": 7,
   "id": "35d851db",
   "metadata": {},
   "outputs": [
    {
     "data": {
      "text/plain": [
       "<tf.Tensor: shape=(3,), dtype=int32, numpy=array([4, 6, 8])>"
      ]
     },
     "execution_count": 7,
     "metadata": {},
     "output_type": "execute_result"
    }
   ],
   "source": [
    "np_a1=np.array([1, 2, 3])\n",
    "np_a2=np.array([3, 4, 5])\n",
    "tf.add(np_a1, np_a2)"
   ]
  },
  {
   "cell_type": "markdown",
   "id": "a983ee0c",
   "metadata": {},
   "source": [
    "## Add numpy array with scaler"
   ]
  },
  {
   "cell_type": "code",
   "execution_count": 9,
   "id": "d7e3e8b1",
   "metadata": {},
   "outputs": [
    {
     "data": {
      "text/plain": [
       "<tf.Tensor: shape=(3,), dtype=int32, numpy=array([16, 17, 18])>"
      ]
     },
     "execution_count": 9,
     "metadata": {},
     "output_type": "execute_result"
    }
   ],
   "source": [
    "np_a1=np.array([1, 2, 3])\n",
    "b=15\n",
    "tf.add(np_a1, b)"
   ]
  },
  {
   "cell_type": "markdown",
   "id": "ef12322e",
   "metadata": {},
   "source": [
    "## Add numpy array with single element"
   ]
  },
  {
   "cell_type": "code",
   "execution_count": 10,
   "id": "ed7c93b0",
   "metadata": {},
   "outputs": [
    {
     "data": {
      "text/plain": [
       "<tf.Tensor: shape=(3,), dtype=int32, numpy=array([4, 5, 6])>"
      ]
     },
     "execution_count": 10,
     "metadata": {},
     "output_type": "execute_result"
    }
   ],
   "source": [
    "np_ar1=np.array([1, 2, 3])\n",
    "np_ar2=np.array([3])\n",
    "tf.add(np_ar1, np_ar2)"
   ]
  },
  {
   "cell_type": "markdown",
   "id": "10a61c8c",
   "metadata": {},
   "source": [
    "## Add two tensorflow constant"
   ]
  },
  {
   "cell_type": "code",
   "execution_count": 12,
   "id": "63c770c6",
   "metadata": {},
   "outputs": [
    {
     "data": {
      "text/plain": [
       "<tf.Tensor: shape=(3,), dtype=int32, numpy=array([5, 7, 9])>"
      ]
     },
     "execution_count": 12,
     "metadata": {},
     "output_type": "execute_result"
    }
   ],
   "source": [
    "tf_con1=tf.constant([2, 3, 4])\n",
    "tf_con2=tf.constant([3,4, 5])\n",
    "tf.add(tf_con1, tf_con2)"
   ]
  },
  {
   "cell_type": "markdown",
   "id": "ef940ee3",
   "metadata": {},
   "source": [
    "## Add tensorflow constant with scaler"
   ]
  },
  {
   "cell_type": "code",
   "execution_count": 13,
   "id": "77f8cea2",
   "metadata": {},
   "outputs": [
    {
     "data": {
      "text/plain": [
       "<tf.Tensor: shape=(3,), dtype=int32, numpy=array([14, 15, 16])>"
      ]
     },
     "execution_count": 13,
     "metadata": {},
     "output_type": "execute_result"
    }
   ],
   "source": [
    "tf_cons1=tf.constant([2, 3, 4])\n",
    "b=12\n",
    "tf.add(tf_cons1, b)"
   ]
  },
  {
   "cell_type": "markdown",
   "id": "7ea215aa",
   "metadata": {},
   "source": [
    "## Add two tensorflow variables"
   ]
  },
  {
   "cell_type": "code",
   "execution_count": 14,
   "id": "dda84db3",
   "metadata": {},
   "outputs": [
    {
     "data": {
      "text/plain": [
       "<tf.Tensor: shape=(4,), dtype=int32, numpy=array([ 5,  8, 11, 14])>"
      ]
     },
     "execution_count": 14,
     "metadata": {},
     "output_type": "execute_result"
    }
   ],
   "source": [
    "tf_var1=tf.Variable([2, 3, 4, 5])\n",
    "tf_var2=tf.Variable([3, 5, 7, 9])\n",
    "tf.add(tf_var1, tf_var2)"
   ]
  },
  {
   "cell_type": "markdown",
   "id": "6469536b",
   "metadata": {},
   "source": [
    "## Add tensorflow variable and scaler"
   ]
  },
  {
   "cell_type": "code",
   "execution_count": 15,
   "id": "52c7a109",
   "metadata": {},
   "outputs": [
    {
     "data": {
      "text/plain": [
       "<tf.Tensor: shape=(4,), dtype=int32, numpy=array([15, 17, 19, 21])>"
      ]
     },
     "execution_count": 15,
     "metadata": {},
     "output_type": "execute_result"
    }
   ],
   "source": [
    "tf_var=tf.Variable([3, 5, 7, 9])\n",
    "a=12\n",
    "tf.add(tf_var, a)"
   ]
  },
  {
   "cell_type": "markdown",
   "id": "89cf8c81",
   "metadata": {},
   "source": [
    "## Add two tensorflow zeros and ones function "
   ]
  },
  {
   "cell_type": "code",
   "execution_count": 16,
   "id": "ef5d1e9f",
   "metadata": {},
   "outputs": [
    {
     "data": {
      "text/plain": [
       "<tf.Tensor: shape=(3, 3), dtype=int32, numpy=\n",
       "array([[1, 1, 1],\n",
       "       [1, 1, 1],\n",
       "       [1, 1, 1]])>"
      ]
     },
     "execution_count": 16,
     "metadata": {},
     "output_type": "execute_result"
    }
   ],
   "source": [
    "tf_ones=tf.ones((3, 3), tf.int32)\n",
    "tf_zeros=tf.zeros((3, 3), tf.int32)\n",
    "tf.add(tf_ones, tf_zeros)"
   ]
  },
  {
   "cell_type": "markdown",
   "id": "c77f4b6f",
   "metadata": {},
   "source": [
    "## Add tensorflow ones function and scaler"
   ]
  },
  {
   "cell_type": "code",
   "execution_count": 17,
   "id": "042dbffb",
   "metadata": {},
   "outputs": [
    {
     "data": {
      "text/plain": [
       "<tf.Tensor: shape=(3, 3), dtype=int32, numpy=\n",
       "array([[11, 11, 11],\n",
       "       [11, 11, 11],\n",
       "       [11, 11, 11]])>"
      ]
     },
     "execution_count": 17,
     "metadata": {},
     "output_type": "execute_result"
    }
   ],
   "source": [
    "tf_ones1=tf.ones((3, 3), tf.int32)\n",
    "b=10\n",
    "tf.add(tf_ones1, b)"
   ]
  },
  {
   "cell_type": "markdown",
   "id": "d7c06406",
   "metadata": {},
   "source": [
    "## How to subtrct Tensors in tensorflow"
   ]
  },
  {
   "cell_type": "markdown",
   "id": "99b94efb",
   "metadata": {},
   "source": [
    "#### tf.subtract()"
   ]
  },
  {
   "cell_type": "markdown",
   "id": "32c724f3",
   "metadata": {},
   "source": [
    "Element wise subtraction in tensorflow"
   ]
  },
  {
   "cell_type": "markdown",
   "id": "a2e9248f",
   "metadata": {},
   "source": [
    "## Two Scalers subtraction"
   ]
  },
  {
   "cell_type": "code",
   "execution_count": 18,
   "id": "63e2da26",
   "metadata": {},
   "outputs": [
    {
     "data": {
      "text/plain": [
       "<tf.Tensor: shape=(), dtype=int32, numpy=5>"
      ]
     },
     "execution_count": 18,
     "metadata": {},
     "output_type": "execute_result"
    }
   ],
   "source": [
    "a=10\n",
    "b=5\n",
    "tf.subtract(a, b)"
   ]
  },
  {
   "cell_type": "markdown",
   "id": "a7b92b3e",
   "metadata": {},
   "source": [
    "## Subtract two lists"
   ]
  },
  {
   "cell_type": "code",
   "execution_count": 19,
   "id": "d317865d",
   "metadata": {},
   "outputs": [
    {
     "data": {
      "text/plain": [
       "<tf.Tensor: shape=(4,), dtype=int32, numpy=array([1, 1, 1, 2])>"
      ]
     },
     "execution_count": 19,
     "metadata": {},
     "output_type": "execute_result"
    }
   ],
   "source": [
    "l1=[3, 5, 6, 8]\n",
    "l2=[2, 4, 5, 6]\n",
    "tf.subtract(l1, l2)"
   ]
  },
  {
   "cell_type": "markdown",
   "id": "d93cf180",
   "metadata": {},
   "source": [
    "## Subtract scaler from list"
   ]
  },
  {
   "cell_type": "code",
   "execution_count": 22,
   "id": "46806615",
   "metadata": {},
   "outputs": [
    {
     "data": {
      "text/plain": [
       "<tf.Tensor: shape=(4,), dtype=int32, numpy=array([1, 3, 4, 6])>"
      ]
     },
     "execution_count": 22,
     "metadata": {},
     "output_type": "execute_result"
    }
   ],
   "source": [
    "l1=[3, 5, 6, 8]\n",
    "a=2\n",
    "tf.subtract(l1, a)"
   ]
  },
  {
   "cell_type": "markdown",
   "id": "e7686d49",
   "metadata": {},
   "source": [
    "## Subtract two tuples"
   ]
  },
  {
   "cell_type": "code",
   "execution_count": 20,
   "id": "bc771c22",
   "metadata": {},
   "outputs": [
    {
     "data": {
      "text/plain": [
       "<tf.Tensor: shape=(4,), dtype=int32, numpy=array([-2,  2,  2,  2])>"
      ]
     },
     "execution_count": 20,
     "metadata": {},
     "output_type": "execute_result"
    }
   ],
   "source": [
    "t1=(3, 5, 7, 9)\n",
    "t2=(5, 3, 5, 7)\n",
    "tf.subtract(t1, t2)"
   ]
  },
  {
   "cell_type": "markdown",
   "id": "0ab915ec",
   "metadata": {},
   "source": [
    "## Subtract scaler from tuple"
   ]
  },
  {
   "cell_type": "code",
   "execution_count": 21,
   "id": "54c52deb",
   "metadata": {},
   "outputs": [
    {
     "data": {
      "text/plain": [
       "<tf.Tensor: shape=(4,), dtype=int32, numpy=array([0, 2, 4, 6])>"
      ]
     },
     "execution_count": 21,
     "metadata": {},
     "output_type": "execute_result"
    }
   ],
   "source": [
    "t1=(3, 5, 7, 9)\n",
    "a=3\n",
    "tf.subtract(t1, a)"
   ]
  },
  {
   "cell_type": "markdown",
   "id": "3c66426d",
   "metadata": {},
   "source": [
    "## Subtract two numpy arrays"
   ]
  },
  {
   "cell_type": "code",
   "execution_count": 23,
   "id": "d8469bc2",
   "metadata": {},
   "outputs": [
    {
     "data": {
      "text/plain": [
       "<tf.Tensor: shape=(3,), dtype=int32, numpy=array([3, 3, 3])>"
      ]
     },
     "execution_count": 23,
     "metadata": {},
     "output_type": "execute_result"
    }
   ],
   "source": [
    "arr1=np.array([4, 5, 6])\n",
    "arr2=np.array([1, 2, 3])\n",
    "tf.subtract(arr1, arr2)"
   ]
  },
  {
   "cell_type": "markdown",
   "id": "db79c234",
   "metadata": {},
   "source": [
    "## Subtract scaler from numpy array"
   ]
  },
  {
   "cell_type": "code",
   "execution_count": 24,
   "id": "9f486752",
   "metadata": {},
   "outputs": [
    {
     "data": {
      "text/plain": [
       "<tf.Tensor: shape=(3,), dtype=int32, numpy=array([-6, -5, -4])>"
      ]
     },
     "execution_count": 24,
     "metadata": {},
     "output_type": "execute_result"
    }
   ],
   "source": [
    "arr1=np.array([4, 5, 6])\n",
    "a=10\n",
    "tf.subtract(arr1, a)"
   ]
  },
  {
   "cell_type": "markdown",
   "id": "14190469",
   "metadata": {},
   "source": [
    "## Subtract single numpy array from numpy array"
   ]
  },
  {
   "cell_type": "code",
   "execution_count": 25,
   "id": "b2ea014d",
   "metadata": {},
   "outputs": [
    {
     "data": {
      "text/plain": [
       "<tf.Tensor: shape=(3,), dtype=int32, numpy=array([2, 3, 4])>"
      ]
     },
     "execution_count": 25,
     "metadata": {},
     "output_type": "execute_result"
    }
   ],
   "source": [
    "arr1=np.array([4, 5, 6])\n",
    "arr2=np.array([2])\n",
    "tf.subtract(arr1, arr2)"
   ]
  },
  {
   "cell_type": "markdown",
   "id": "20df9d37",
   "metadata": {},
   "source": [
    "## Subtraction of two constant tensors"
   ]
  },
  {
   "cell_type": "code",
   "execution_count": 26,
   "id": "0b20b21b",
   "metadata": {},
   "outputs": [
    {
     "data": {
      "text/plain": [
       "<tf.Tensor: shape=(3,), dtype=int32, numpy=array([1, 2, 2])>"
      ]
     },
     "execution_count": 26,
     "metadata": {},
     "output_type": "execute_result"
    }
   ],
   "source": [
    "tf_const1=tf.constant([2, 5, 7])\n",
    "tf_const2=tf.constant([1, 3, 5])\n",
    "tf.subtract(tf_const1, tf_const2)"
   ]
  },
  {
   "cell_type": "markdown",
   "id": "16e7df68",
   "metadata": {},
   "source": [
    "## Subtract scaler value from tensorflow constant"
   ]
  },
  {
   "cell_type": "code",
   "execution_count": 27,
   "id": "36650fd3",
   "metadata": {},
   "outputs": [
    {
     "data": {
      "text/plain": [
       "<tf.Tensor: shape=(3,), dtype=int32, numpy=array([1, 4, 6])>"
      ]
     },
     "execution_count": 27,
     "metadata": {},
     "output_type": "execute_result"
    }
   ],
   "source": [
    "tf_const1=tf.constant([2, 5, 7])\n",
    "b=1\n",
    "tf.subtract(tf_const1, b)"
   ]
  },
  {
   "cell_type": "markdown",
   "id": "a919f82d",
   "metadata": {},
   "source": [
    "## Subtract two tensorflow variables "
   ]
  },
  {
   "cell_type": "code",
   "execution_count": 28,
   "id": "fec814f7",
   "metadata": {},
   "outputs": [
    {
     "data": {
      "text/plain": [
       "<tf.Tensor: shape=(3,), dtype=int32, numpy=array([3, 3, 3])>"
      ]
     },
     "execution_count": 28,
     "metadata": {},
     "output_type": "execute_result"
    }
   ],
   "source": [
    "tf_var1=tf.Variable([4, 5, 6])\n",
    "tf_var2=tf.Variable([1, 2, 3])\n",
    "tf.subtract(tf_var1, tf_var2)"
   ]
  },
  {
   "cell_type": "markdown",
   "id": "b08ee789",
   "metadata": {},
   "source": [
    "## Subtract scaler from tensorflow variables"
   ]
  },
  {
   "cell_type": "code",
   "execution_count": 29,
   "id": "c46b3b05",
   "metadata": {},
   "outputs": [
    {
     "data": {
      "text/plain": [
       "<tf.Tensor: shape=(3,), dtype=int32, numpy=array([1, 2, 3])>"
      ]
     },
     "execution_count": 29,
     "metadata": {},
     "output_type": "execute_result"
    }
   ],
   "source": [
    "tf_var1=tf.Variable([4, 5, 6])\n",
    "a=3\n",
    "tf.subtract(tf_var1, a)"
   ]
  },
  {
   "cell_type": "code",
   "execution_count": null,
   "id": "08eb7328",
   "metadata": {},
   "outputs": [],
   "source": []
  },
  {
   "cell_type": "code",
   "execution_count": null,
   "id": "8610fd66",
   "metadata": {},
   "outputs": [],
   "source": []
  },
  {
   "cell_type": "code",
   "execution_count": null,
   "id": "10d32c87",
   "metadata": {},
   "outputs": [],
   "source": []
  },
  {
   "cell_type": "code",
   "execution_count": null,
   "id": "bbea60af",
   "metadata": {},
   "outputs": [],
   "source": []
  },
  {
   "cell_type": "code",
   "execution_count": null,
   "id": "02d8f5f0",
   "metadata": {},
   "outputs": [],
   "source": []
  }
 ],
 "metadata": {
  "kernelspec": {
   "display_name": "Python 3",
   "language": "python",
   "name": "python3"
  },
  "language_info": {
   "codemirror_mode": {
    "name": "ipython",
    "version": 3
   },
   "file_extension": ".py",
   "mimetype": "text/x-python",
   "name": "python",
   "nbconvert_exporter": "python",
   "pygments_lexer": "ipython3",
   "version": "3.8.8"
  }
 },
 "nbformat": 4,
 "nbformat_minor": 5
}
