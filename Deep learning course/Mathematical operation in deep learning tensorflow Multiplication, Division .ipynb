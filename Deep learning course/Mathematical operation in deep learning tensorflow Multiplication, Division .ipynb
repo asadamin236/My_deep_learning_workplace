{
 "cells": [
  {
   "cell_type": "markdown",
   "id": "93815629",
   "metadata": {},
   "source": [
    "## How to do multiplication in tensorflow "
   ]
  },
  {
   "cell_type": "markdown",
   "id": "097d4559",
   "metadata": {},
   "source": [
    "#### tf.multiply()"
   ]
  },
  {
   "cell_type": "markdown",
   "id": "3e891913",
   "metadata": {},
   "source": [
    "We use above function for element wise multiplication"
   ]
  },
  {
   "cell_type": "markdown",
   "id": "c7ee8f1c",
   "metadata": {},
   "source": [
    "## Import libraries"
   ]
  },
  {
   "cell_type": "code",
   "execution_count": 1,
   "id": "f0811717",
   "metadata": {},
   "outputs": [],
   "source": [
    "import numpy as np\n",
    "import tensorflow as tf"
   ]
  },
  {
   "cell_type": "markdown",
   "id": "c385451e",
   "metadata": {},
   "source": [
    "## Scaler multiply"
   ]
  },
  {
   "cell_type": "code",
   "execution_count": 2,
   "id": "c26c48b3",
   "metadata": {},
   "outputs": [
    {
     "data": {
      "text/plain": [
       "<tf.Tensor: shape=(), dtype=int32, numpy=30>"
      ]
     },
     "execution_count": 2,
     "metadata": {},
     "output_type": "execute_result"
    }
   ],
   "source": [
    "a=10\n",
    "b=3\n",
    "tf.multiply(a, b)"
   ]
  },
  {
   "cell_type": "markdown",
   "id": "2485eae4",
   "metadata": {},
   "source": [
    "## Multiply two lists"
   ]
  },
  {
   "cell_type": "code",
   "execution_count": 3,
   "id": "2a837256",
   "metadata": {},
   "outputs": [
    {
     "data": {
      "text/plain": [
       "<tf.Tensor: shape=(4,), dtype=int32, numpy=array([ 5,  8,  6, 24])>"
      ]
     },
     "execution_count": 3,
     "metadata": {},
     "output_type": "execute_result"
    }
   ],
   "source": [
    "l1=[1, 2, 3, 4]\n",
    "l2=[5, 4, 2, 6]\n",
    "tf.multiply(l1, l2)"
   ]
  },
  {
   "cell_type": "markdown",
   "id": "ec51cf87",
   "metadata": {},
   "source": [
    "## Multiply two tuples"
   ]
  },
  {
   "cell_type": "code",
   "execution_count": 4,
   "id": "f39e416e",
   "metadata": {},
   "outputs": [
    {
     "data": {
      "text/plain": [
       "<tf.Tensor: shape=(4,), dtype=int32, numpy=array([ 6, 18, 28, 48])>"
      ]
     },
     "execution_count": 4,
     "metadata": {},
     "output_type": "execute_result"
    }
   ],
   "source": [
    "t1=(2, 3, 4, 6)\n",
    "t2=(3, 6, 7, 8)\n",
    "tf.multiply(t1, t2)"
   ]
  },
  {
   "cell_type": "markdown",
   "id": "8efc6aae",
   "metadata": {},
   "source": [
    "## Multiply scaler with list"
   ]
  },
  {
   "cell_type": "code",
   "execution_count": 5,
   "id": "17807c07",
   "metadata": {},
   "outputs": [
    {
     "data": {
      "text/plain": [
       "<tf.Tensor: shape=(4,), dtype=int32, numpy=array([ 3,  6,  9, 12])>"
      ]
     },
     "execution_count": 5,
     "metadata": {},
     "output_type": "execute_result"
    }
   ],
   "source": [
    "lst=[1, 2, 3, 4]\n",
    "a=3\n",
    "tf.multiply(lst, a)"
   ]
  },
  {
   "cell_type": "markdown",
   "id": "aee45cf6",
   "metadata": {},
   "source": [
    "## Multiply scaler with tuple"
   ]
  },
  {
   "cell_type": "code",
   "execution_count": 6,
   "id": "cc31bd03",
   "metadata": {},
   "outputs": [
    {
     "data": {
      "text/plain": [
       "<tf.Tensor: shape=(4,), dtype=int32, numpy=array([ 4,  6,  8, 12])>"
      ]
     },
     "execution_count": 6,
     "metadata": {},
     "output_type": "execute_result"
    }
   ],
   "source": [
    "t1=(2, 3, 4, 6)\n",
    "a=2\n",
    "tf.multiply(t1, a)"
   ]
  },
  {
   "cell_type": "markdown",
   "id": "a0ab245f",
   "metadata": {},
   "source": [
    "## Multiplication of two numpy arrays"
   ]
  },
  {
   "cell_type": "code",
   "execution_count": 7,
   "id": "6f5930c2",
   "metadata": {},
   "outputs": [
    {
     "data": {
      "text/plain": [
       "<tf.Tensor: shape=(3,), dtype=int32, numpy=array([12, 20, 30])>"
      ]
     },
     "execution_count": 7,
     "metadata": {},
     "output_type": "execute_result"
    }
   ],
   "source": [
    "np_ar1 = np.array([3, 4, 5])\n",
    "np_ar2=np.array([4, 5, 6])\n",
    "tf.multiply(np_ar1, np_ar2)"
   ]
  },
  {
   "cell_type": "markdown",
   "id": "9e8a7bf4",
   "metadata": {},
   "source": [
    "## Multiply numpy array and scaler"
   ]
  },
  {
   "cell_type": "code",
   "execution_count": 8,
   "id": "2c7b9db0",
   "metadata": {},
   "outputs": [
    {
     "data": {
      "text/plain": [
       "<tf.Tensor: shape=(3,), dtype=int32, numpy=array([30, 40, 50])>"
      ]
     },
     "execution_count": 8,
     "metadata": {},
     "output_type": "execute_result"
    }
   ],
   "source": [
    "np_ar1 = np.array([3, 4, 5])\n",
    "a=10\n",
    "tf.multiply(np_ar1, a)"
   ]
  },
  {
   "cell_type": "markdown",
   "id": "4586564c",
   "metadata": {},
   "source": [
    "## Multiply numpy array with single numpy array"
   ]
  },
  {
   "cell_type": "code",
   "execution_count": 9,
   "id": "a820cdb8",
   "metadata": {},
   "outputs": [
    {
     "data": {
      "text/plain": [
       "<tf.Tensor: shape=(3,), dtype=int32, numpy=array([ 9, 12, 15])>"
      ]
     },
     "execution_count": 9,
     "metadata": {},
     "output_type": "execute_result"
    }
   ],
   "source": [
    "np_ar1 = np.array([3, 4, 5])\n",
    "np_arr2=np.array([3])\n",
    "tf.multiply(np_ar1, np_arr2)"
   ]
  },
  {
   "cell_type": "markdown",
   "id": "c7d33e95",
   "metadata": {},
   "source": [
    "## Multiply two tensor constant"
   ]
  },
  {
   "cell_type": "code",
   "execution_count": 10,
   "id": "f3d20f90",
   "metadata": {},
   "outputs": [
    {
     "data": {
      "text/plain": [
       "<tf.Tensor: shape=(3,), dtype=int32, numpy=array([ 8, 15, 32])>"
      ]
     },
     "execution_count": 10,
     "metadata": {},
     "output_type": "execute_result"
    }
   ],
   "source": [
    "tf_cn1=tf.constant([2, 3, 4])\n",
    "tf_cn2=tf.constant([4, 5, 8])\n",
    "tf.multiply(tf_cn1, tf_cn2)"
   ]
  },
  {
   "cell_type": "markdown",
   "id": "8d837bfd",
   "metadata": {},
   "source": [
    "## Multiply tensor scaler value"
   ]
  },
  {
   "cell_type": "code",
   "execution_count": 11,
   "id": "5f4f7bcf",
   "metadata": {},
   "outputs": [
    {
     "data": {
      "text/plain": [
       "<tf.Tensor: shape=(3,), dtype=int32, numpy=array([4, 6, 8])>"
      ]
     },
     "execution_count": 11,
     "metadata": {},
     "output_type": "execute_result"
    }
   ],
   "source": [
    "tf_cn1=tf.constant([2, 3, 4])\n",
    "a=2\n",
    "tf.multiply(tf_cn1, a)"
   ]
  },
  {
   "cell_type": "markdown",
   "id": "b9e4d0a3",
   "metadata": {},
   "source": [
    "## Multiply two tensor variables"
   ]
  },
  {
   "cell_type": "code",
   "execution_count": 12,
   "id": "5f34c256",
   "metadata": {},
   "outputs": [
    {
     "data": {
      "text/plain": [
       "<tf.Tensor: shape=(3,), dtype=int32, numpy=array([ 6, 20, 42])>"
      ]
     },
     "execution_count": 12,
     "metadata": {},
     "output_type": "execute_result"
    }
   ],
   "source": [
    "tf_vr1=tf.Variable([3, 5, 7])\n",
    "tf_vr2=tf.Variable([2, 4, 6])\n",
    "tf.multiply(tf_vr1, tf_vr2)"
   ]
  },
  {
   "cell_type": "markdown",
   "id": "7ece47cb",
   "metadata": {},
   "source": [
    "## Multiply scaler with tensorflow variables"
   ]
  },
  {
   "cell_type": "code",
   "execution_count": 14,
   "id": "f8654c81",
   "metadata": {},
   "outputs": [
    {
     "data": {
      "text/plain": [
       "<tf.Tensor: shape=(3,), dtype=int32, numpy=array([30, 50, 70])>"
      ]
     },
     "execution_count": 14,
     "metadata": {},
     "output_type": "execute_result"
    }
   ],
   "source": [
    "tf_vr1=tf.Variable([3, 5, 7])\n",
    "b=10\n",
    "tf.multiply(tf_vr1, b)"
   ]
  },
  {
   "cell_type": "markdown",
   "id": "7247af5a",
   "metadata": {},
   "source": [
    "## How to do division of tensors in tensorflow"
   ]
  },
  {
   "cell_type": "markdown",
   "id": "9621a709",
   "metadata": {},
   "source": [
    "tf.divide()"
   ]
  },
  {
   "cell_type": "markdown",
   "id": "a805155b",
   "metadata": {},
   "source": [
    "We use the above divide function for tesnors division with element wise"
   ]
  },
  {
   "cell_type": "markdown",
   "id": "5dff9d88",
   "metadata": {},
   "source": [
    "## Scalers division"
   ]
  },
  {
   "cell_type": "code",
   "execution_count": 20,
   "id": "4cbc6d23",
   "metadata": {},
   "outputs": [
    {
     "data": {
      "text/plain": [
       "<tf.Tensor: shape=(), dtype=float64, numpy=2.0>"
      ]
     },
     "execution_count": 20,
     "metadata": {},
     "output_type": "execute_result"
    }
   ],
   "source": [
    "a=10\n",
    "b=5\n",
    "tf.divide(a,b)"
   ]
  },
  {
   "cell_type": "markdown",
   "id": "efe527f7",
   "metadata": {},
   "source": [
    "## Divide two lists using tensorflow divide function"
   ]
  },
  {
   "cell_type": "code",
   "execution_count": 16,
   "id": "c30e9885",
   "metadata": {},
   "outputs": [
    {
     "data": {
      "text/plain": [
       "<tf.Tensor: shape=(4,), dtype=float64, numpy=array([1., 1., 2., 5.])>"
      ]
     },
     "execution_count": 16,
     "metadata": {},
     "output_type": "execute_result"
    }
   ],
   "source": [
    "l1=[2, 3, 4, 5]\n",
    "l2=[2, 3, 2, 1]\n",
    "tf.divide(l1, l2)"
   ]
  },
  {
   "cell_type": "markdown",
   "id": "dd9a88ad",
   "metadata": {},
   "source": [
    "## Divide two tuples"
   ]
  },
  {
   "cell_type": "code",
   "execution_count": 17,
   "id": "3f47cec9",
   "metadata": {},
   "outputs": [
    {
     "data": {
      "text/plain": [
       "<tf.Tensor: shape=(3,), dtype=float64, numpy=array([ 2., 11.,  3.])>"
      ]
     },
     "execution_count": 17,
     "metadata": {},
     "output_type": "execute_result"
    }
   ],
   "source": [
    "t1=(22, 11, 33)\n",
    "t2=(11, 1, 11)\n",
    "tf.divide(t1, t2)"
   ]
  },
  {
   "cell_type": "markdown",
   "id": "cc45da61",
   "metadata": {},
   "source": [
    "## Divide list by scaler"
   ]
  },
  {
   "cell_type": "code",
   "execution_count": 18,
   "id": "13c1101c",
   "metadata": {},
   "outputs": [
    {
     "data": {
      "text/plain": [
       "<tf.Tensor: shape=(4,), dtype=float64, numpy=array([1. , 1.5, 2. , 2.5])>"
      ]
     },
     "execution_count": 18,
     "metadata": {},
     "output_type": "execute_result"
    }
   ],
   "source": [
    "lst=[2, 3, 4, 5]\n",
    "a=2\n",
    "tf.divide(lst, a)"
   ]
  },
  {
   "cell_type": "markdown",
   "id": "f488e7cc",
   "metadata": {},
   "source": [
    "## Divide tuple by scaler"
   ]
  },
  {
   "cell_type": "code",
   "execution_count": 19,
   "id": "ec135e64",
   "metadata": {},
   "outputs": [
    {
     "data": {
      "text/plain": [
       "<tf.Tensor: shape=(3,), dtype=float64, numpy=array([1., 2., 3.])>"
      ]
     },
     "execution_count": 19,
     "metadata": {},
     "output_type": "execute_result"
    }
   ],
   "source": [
    "tup1=(2, 4, 6)\n",
    "b=2\n",
    "tf.divide(tup1, b)"
   ]
  },
  {
   "cell_type": "markdown",
   "id": "3e3f2d43",
   "metadata": {},
   "source": [
    "## Divide two numpy arrays"
   ]
  },
  {
   "cell_type": "code",
   "execution_count": 21,
   "id": "ade4b22f",
   "metadata": {},
   "outputs": [
    {
     "data": {
      "text/plain": [
       "<tf.Tensor: shape=(3,), dtype=float64, numpy=array([2., 2., 2.])>"
      ]
     },
     "execution_count": 21,
     "metadata": {},
     "output_type": "execute_result"
    }
   ],
   "source": [
    "np_arr1=np.array([4, 6, 8])\n",
    "np_arr2=np.array([2, 3, 4])\n",
    "tf.divide(np_arr1, np_arr2)"
   ]
  },
  {
   "cell_type": "markdown",
   "id": "475b2905",
   "metadata": {},
   "source": [
    "## Divide numpy array by scaler"
   ]
  },
  {
   "cell_type": "code",
   "execution_count": 22,
   "id": "750719ea",
   "metadata": {},
   "outputs": [
    {
     "data": {
      "text/plain": [
       "<tf.Tensor: shape=(3,), dtype=float64, numpy=array([2., 3., 4.])>"
      ]
     },
     "execution_count": 22,
     "metadata": {},
     "output_type": "execute_result"
    }
   ],
   "source": [
    "np_arr1=np.array([4, 6, 8])\n",
    "b=2\n",
    "tf.divide(np_arr1, b)"
   ]
  },
  {
   "cell_type": "markdown",
   "id": "fc58c486",
   "metadata": {},
   "source": [
    "## Divide two tensorflow constant "
   ]
  },
  {
   "cell_type": "code",
   "execution_count": 24,
   "id": "1e75d0ee",
   "metadata": {},
   "outputs": [
    {
     "data": {
      "text/plain": [
       "<tf.Tensor: shape=(3,), dtype=float64, numpy=array([0.5, 0.6, 0.5])>"
      ]
     },
     "execution_count": 24,
     "metadata": {},
     "output_type": "execute_result"
    }
   ],
   "source": [
    "tf_cons1=tf.constant([2, 3, 4])\n",
    "tf_cons2=tf.constant([4, 5, 8])\n",
    "tf.divide(tf_cons1, tf_cons2)"
   ]
  },
  {
   "cell_type": "markdown",
   "id": "4303b61a",
   "metadata": {},
   "source": [
    "## Divide tensor constant by scaler"
   ]
  },
  {
   "cell_type": "code",
   "execution_count": 25,
   "id": "59f7f34b",
   "metadata": {},
   "outputs": [
    {
     "data": {
      "text/plain": [
       "<tf.Tensor: shape=(3,), dtype=float64, numpy=array([1. , 1.5, 2. ])>"
      ]
     },
     "execution_count": 25,
     "metadata": {},
     "output_type": "execute_result"
    }
   ],
   "source": [
    "tf_cons1=tf.constant([2, 3, 4])\n",
    "b=2\n",
    "tf.divide(tf_cons1, b)"
   ]
  },
  {
   "cell_type": "markdown",
   "id": "5e146401",
   "metadata": {},
   "source": [
    "## Divide two tensor variables "
   ]
  },
  {
   "cell_type": "code",
   "execution_count": 26,
   "id": "c0cc0ac5",
   "metadata": {},
   "outputs": [
    {
     "data": {
      "text/plain": [
       "<tf.Tensor: shape=(3,), dtype=float64, numpy=array([1.5       , 1.25      , 1.16666667])>"
      ]
     },
     "execution_count": 26,
     "metadata": {},
     "output_type": "execute_result"
    }
   ],
   "source": [
    "tf_vr1=tf.Variable([3, 5, 7])\n",
    "tf_vr2=tf.Variable([2, 4, 6])\n",
    "tf.divide(tf_vr1, tf_vr2)"
   ]
  },
  {
   "cell_type": "markdown",
   "id": "862e79ed",
   "metadata": {},
   "source": [
    "## Divide tensor variable by scaler"
   ]
  },
  {
   "cell_type": "code",
   "execution_count": 27,
   "id": "7cee4a78",
   "metadata": {},
   "outputs": [
    {
     "data": {
      "text/plain": [
       "<tf.Tensor: shape=(3,), dtype=float64, numpy=array([0.3, 0.5, 0.7])>"
      ]
     },
     "execution_count": 27,
     "metadata": {},
     "output_type": "execute_result"
    }
   ],
   "source": [
    "tf_vr1=tf.Variable([3, 5, 7])\n",
    "b=10\n",
    "tf.divide(tf_vr1, b)"
   ]
  },
  {
   "cell_type": "code",
   "execution_count": null,
   "id": "bb67346c",
   "metadata": {},
   "outputs": [],
   "source": []
  },
  {
   "cell_type": "code",
   "execution_count": null,
   "id": "8376940b",
   "metadata": {},
   "outputs": [],
   "source": []
  },
  {
   "cell_type": "code",
   "execution_count": null,
   "id": "4177cdbd",
   "metadata": {},
   "outputs": [],
   "source": []
  },
  {
   "cell_type": "code",
   "execution_count": null,
   "id": "9691754c",
   "metadata": {},
   "outputs": [],
   "source": []
  }
 ],
 "metadata": {
  "kernelspec": {
   "display_name": "Python 3",
   "language": "python",
   "name": "python3"
  },
  "language_info": {
   "codemirror_mode": {
    "name": "ipython",
    "version": 3
   },
   "file_extension": ".py",
   "mimetype": "text/x-python",
   "name": "python",
   "nbconvert_exporter": "python",
   "pygments_lexer": "ipython3",
   "version": "3.8.8"
  }
 },
 "nbformat": 4,
 "nbformat_minor": 5
}
